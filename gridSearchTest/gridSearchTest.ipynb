{
 "cells": [
  {
   "cell_type": "code",
   "execution_count": 94,
   "metadata": {},
   "outputs": [],
   "source": [
    "import pandas as pd"
   ]
  },
  {
   "cell_type": "code",
   "execution_count": 95,
   "metadata": {},
   "outputs": [],
   "source": [
    "data=pd.read_csv('dataset.csv')"
   ]
  },
  {
   "cell_type": "code",
   "execution_count": 96,
   "metadata": {},
   "outputs": [
    {
     "data": {
      "text/html": [
       "<div>\n",
       "<style scoped>\n",
       "    .dataframe tbody tr th:only-of-type {\n",
       "        vertical-align: middle;\n",
       "    }\n",
       "\n",
       "    .dataframe tbody tr th {\n",
       "        vertical-align: top;\n",
       "    }\n",
       "\n",
       "    .dataframe thead th {\n",
       "        text-align: right;\n",
       "    }\n",
       "</style>\n",
       "<table border=\"1\" class=\"dataframe\">\n",
       "  <thead>\n",
       "    <tr style=\"text-align: right;\">\n",
       "      <th></th>\n",
       "      <th>RowNumber</th>\n",
       "      <th>variable1</th>\n",
       "      <th>variable2</th>\n",
       "      <th>variable3</th>\n",
       "      <th>result</th>\n",
       "    </tr>\n",
       "  </thead>\n",
       "  <tbody>\n",
       "    <tr>\n",
       "      <th>0</th>\n",
       "      <td>1</td>\n",
       "      <td>418</td>\n",
       "      <td>11</td>\n",
       "      <td>D</td>\n",
       "      <td>29172</td>\n",
       "    </tr>\n",
       "    <tr>\n",
       "      <th>1</th>\n",
       "      <td>2</td>\n",
       "      <td>266</td>\n",
       "      <td>82</td>\n",
       "      <td>B</td>\n",
       "      <td>22968</td>\n",
       "    </tr>\n",
       "    <tr>\n",
       "      <th>2</th>\n",
       "      <td>3</td>\n",
       "      <td>905</td>\n",
       "      <td>46</td>\n",
       "      <td>D</td>\n",
       "      <td>64668</td>\n",
       "    </tr>\n",
       "    <tr>\n",
       "      <th>3</th>\n",
       "      <td>4</td>\n",
       "      <td>629</td>\n",
       "      <td>59</td>\n",
       "      <td>C</td>\n",
       "      <td>46096</td>\n",
       "    </tr>\n",
       "    <tr>\n",
       "      <th>4</th>\n",
       "      <td>5</td>\n",
       "      <td>193</td>\n",
       "      <td>53</td>\n",
       "      <td>B</td>\n",
       "      <td>16236</td>\n",
       "    </tr>\n",
       "  </tbody>\n",
       "</table>\n",
       "</div>"
      ],
      "text/plain": [
       "   RowNumber  variable1  variable2 variable3  result\n",
       "0          1        418         11         D   29172\n",
       "1          2        266         82         B   22968\n",
       "2          3        905         46         D   64668\n",
       "3          4        629         59         C   46096\n",
       "4          5        193         53         B   16236"
      ]
     },
     "execution_count": 96,
     "metadata": {},
     "output_type": "execute_result"
    }
   ],
   "source": [
    "data.head()"
   ]
  },
  {
   "cell_type": "code",
   "execution_count": null,
   "metadata": {},
   "outputs": [],
   "source": []
  },
  {
   "cell_type": "code",
   "execution_count": 97,
   "metadata": {},
   "outputs": [
    {
     "name": "stdout",
     "output_type": "stream",
     "text": [
      "0       29172\n",
      "1       22968\n",
      "2       64668\n",
      "3       46096\n",
      "4       16236\n",
      "        ...  \n",
      "3995    17748\n",
      "3996    14625\n",
      "3997    58344\n",
      "3998    15164\n",
      "3999    15378\n",
      "Name: result, Length: 4000, dtype: int64\n",
      "      B  C  D\n",
      "0     0  0  1\n",
      "1     1  0  0\n",
      "2     0  0  1\n",
      "3     0  1  0\n",
      "4     1  0  0\n",
      "...  .. .. ..\n",
      "3995  0  0  1\n",
      "3996  0  0  0\n",
      "3997  1  0  0\n",
      "3998  0  0  1\n",
      "3999  1  0  0\n",
      "\n",
      "[4000 rows x 3 columns]\n"
     ]
    },
    {
     "data": {
      "text/html": [
       "<div>\n",
       "<style scoped>\n",
       "    .dataframe tbody tr th:only-of-type {\n",
       "        vertical-align: middle;\n",
       "    }\n",
       "\n",
       "    .dataframe tbody tr th {\n",
       "        vertical-align: top;\n",
       "    }\n",
       "\n",
       "    .dataframe thead th {\n",
       "        text-align: right;\n",
       "    }\n",
       "</style>\n",
       "<table border=\"1\" class=\"dataframe\">\n",
       "  <thead>\n",
       "    <tr style=\"text-align: right;\">\n",
       "      <th></th>\n",
       "      <th>B</th>\n",
       "      <th>C</th>\n",
       "      <th>D</th>\n",
       "    </tr>\n",
       "  </thead>\n",
       "  <tbody>\n",
       "    <tr>\n",
       "      <th>0</th>\n",
       "      <td>0</td>\n",
       "      <td>0</td>\n",
       "      <td>1</td>\n",
       "    </tr>\n",
       "    <tr>\n",
       "      <th>1</th>\n",
       "      <td>1</td>\n",
       "      <td>0</td>\n",
       "      <td>0</td>\n",
       "    </tr>\n",
       "    <tr>\n",
       "      <th>2</th>\n",
       "      <td>0</td>\n",
       "      <td>0</td>\n",
       "      <td>1</td>\n",
       "    </tr>\n",
       "    <tr>\n",
       "      <th>3</th>\n",
       "      <td>0</td>\n",
       "      <td>1</td>\n",
       "      <td>0</td>\n",
       "    </tr>\n",
       "    <tr>\n",
       "      <th>4</th>\n",
       "      <td>1</td>\n",
       "      <td>0</td>\n",
       "      <td>0</td>\n",
       "    </tr>\n",
       "  </tbody>\n",
       "</table>\n",
       "</div>"
      ],
      "text/plain": [
       "   B  C  D\n",
       "0  0  0  1\n",
       "1  1  0  0\n",
       "2  0  0  1\n",
       "3  0  1  0\n",
       "4  1  0  0"
      ]
     },
     "execution_count": 97,
     "metadata": {},
     "output_type": "execute_result"
    }
   ],
   "source": [
    "x = data.iloc[:,1:4]\n",
    "y = data.iloc[:,4]\n",
    "print(y)\n",
    "variable =pd.get_dummies(x['variable3'],drop_first=True)\n",
    "print(variable)\n",
    "variable.head()"
   ]
  },
  {
   "cell_type": "code",
   "execution_count": 98,
   "metadata": {},
   "outputs": [
    {
     "data": {
      "text/html": [
       "<div>\n",
       "<style scoped>\n",
       "    .dataframe tbody tr th:only-of-type {\n",
       "        vertical-align: middle;\n",
       "    }\n",
       "\n",
       "    .dataframe tbody tr th {\n",
       "        vertical-align: top;\n",
       "    }\n",
       "\n",
       "    .dataframe thead th {\n",
       "        text-align: right;\n",
       "    }\n",
       "</style>\n",
       "<table border=\"1\" class=\"dataframe\">\n",
       "  <thead>\n",
       "    <tr style=\"text-align: right;\">\n",
       "      <th></th>\n",
       "      <th>variable1</th>\n",
       "      <th>variable2</th>\n",
       "    </tr>\n",
       "  </thead>\n",
       "  <tbody>\n",
       "    <tr>\n",
       "      <th>0</th>\n",
       "      <td>418</td>\n",
       "      <td>11</td>\n",
       "    </tr>\n",
       "    <tr>\n",
       "      <th>1</th>\n",
       "      <td>266</td>\n",
       "      <td>82</td>\n",
       "    </tr>\n",
       "    <tr>\n",
       "      <th>2</th>\n",
       "      <td>905</td>\n",
       "      <td>46</td>\n",
       "    </tr>\n",
       "    <tr>\n",
       "      <th>3</th>\n",
       "      <td>629</td>\n",
       "      <td>59</td>\n",
       "    </tr>\n",
       "    <tr>\n",
       "      <th>4</th>\n",
       "      <td>193</td>\n",
       "      <td>53</td>\n",
       "    </tr>\n",
       "  </tbody>\n",
       "</table>\n",
       "</div>"
      ],
      "text/plain": [
       "   variable1  variable2\n",
       "0        418         11\n",
       "1        266         82\n",
       "2        905         46\n",
       "3        629         59\n",
       "4        193         53"
      ]
     },
     "execution_count": 98,
     "metadata": {},
     "output_type": "execute_result"
    }
   ],
   "source": [
    "x=x.drop(['variable3'],axis=1)\n",
    "x.head()"
   ]
  },
  {
   "cell_type": "code",
   "execution_count": 99,
   "metadata": {},
   "outputs": [
    {
     "data": {
      "text/html": [
       "<div>\n",
       "<style scoped>\n",
       "    .dataframe tbody tr th:only-of-type {\n",
       "        vertical-align: middle;\n",
       "    }\n",
       "\n",
       "    .dataframe tbody tr th {\n",
       "        vertical-align: top;\n",
       "    }\n",
       "\n",
       "    .dataframe thead th {\n",
       "        text-align: right;\n",
       "    }\n",
       "</style>\n",
       "<table border=\"1\" class=\"dataframe\">\n",
       "  <thead>\n",
       "    <tr style=\"text-align: right;\">\n",
       "      <th></th>\n",
       "      <th>variable1</th>\n",
       "      <th>variable2</th>\n",
       "      <th>B</th>\n",
       "      <th>C</th>\n",
       "      <th>D</th>\n",
       "    </tr>\n",
       "  </thead>\n",
       "  <tbody>\n",
       "    <tr>\n",
       "      <th>0</th>\n",
       "      <td>418</td>\n",
       "      <td>11</td>\n",
       "      <td>0</td>\n",
       "      <td>0</td>\n",
       "      <td>1</td>\n",
       "    </tr>\n",
       "    <tr>\n",
       "      <th>1</th>\n",
       "      <td>266</td>\n",
       "      <td>82</td>\n",
       "      <td>1</td>\n",
       "      <td>0</td>\n",
       "      <td>0</td>\n",
       "    </tr>\n",
       "    <tr>\n",
       "      <th>2</th>\n",
       "      <td>905</td>\n",
       "      <td>46</td>\n",
       "      <td>0</td>\n",
       "      <td>0</td>\n",
       "      <td>1</td>\n",
       "    </tr>\n",
       "    <tr>\n",
       "      <th>3</th>\n",
       "      <td>629</td>\n",
       "      <td>59</td>\n",
       "      <td>0</td>\n",
       "      <td>1</td>\n",
       "      <td>0</td>\n",
       "    </tr>\n",
       "    <tr>\n",
       "      <th>4</th>\n",
       "      <td>193</td>\n",
       "      <td>53</td>\n",
       "      <td>1</td>\n",
       "      <td>0</td>\n",
       "      <td>0</td>\n",
       "    </tr>\n",
       "  </tbody>\n",
       "</table>\n",
       "</div>"
      ],
      "text/plain": [
       "   variable1  variable2  B  C  D\n",
       "0        418         11  0  0  1\n",
       "1        266         82  1  0  0\n",
       "2        905         46  0  0  1\n",
       "3        629         59  0  1  0\n",
       "4        193         53  1  0  0"
      ]
     },
     "execution_count": 99,
     "metadata": {},
     "output_type": "execute_result"
    }
   ],
   "source": [
    "x=pd.concat([x,variable],axis=1)\n",
    "x.head()"
   ]
  },
  {
   "cell_type": "code",
   "execution_count": 100,
   "metadata": {},
   "outputs": [
    {
     "data": {
      "image/png": "[encoded data removed]",
      "text/plain": [
       "<Figure size 1440x1440 with 2 Axes>"
      ]
     },
     "metadata": {
      "needs_background": "light"
     },
     "output_type": "display_data"
    }
   ],
   "source": [
    "X = pd.concat([x,y], axis=1)\n",
    "## Correlation\n",
    "import seaborn as sns\n",
    "import matplotlib.pyplot as plt\n",
    "\n",
    "plt.figure(figsize=(20,20))\n",
    "g=sns.heatmap(X.corr(),annot=True,cmap=\"RdYlGn\")"
   ]
  },
  {
   "cell_type": "code",
   "execution_count": 101,
   "metadata": {},
   "outputs": [
    {
     "name": "stdout",
     "output_type": "stream",
     "text": [
      "      variable1  variable2  B  C  D\n",
      "2230        890         77  1  0  0\n",
      "668         884         48  0  0  1\n",
      "3616        536         32  0  0  1\n",
      "2363        477         59  0  0  1\n",
      "142         173         96  0  1  0\n",
      "...         ...        ... .. .. ..\n",
      "1118         65         27  1  0  0\n",
      "3572        710         17  0  1  0\n",
      "2482        487         97  0  0  1\n",
      "643         405         60  0  1  0\n",
      "299         567         92  0  0  0\n",
      "\n",
      "[800 rows x 5 columns]\n"
     ]
    }
   ],
   "source": [
    "from sklearn.model_selection import train_test_split\n",
    "x_train, x_test, y_train , y_test = train_test_split(x,y, random_state = 0, test_size = 0.2)\n",
    "print(x_test)"
   ]
  },
  {
   "cell_type": "code",
   "execution_count": 102,
   "metadata": {},
   "outputs": [],
   "source": [
    "#from sklearn.preprocessing import StandardScaler\n",
    "#sc = StandardScaler()\n",
    "#x_train = sc.fit_transform(x_train)\n",
    "#x_test = sc.transform(x_test)\n",
    "#print(x_train)"
   ]
  },
  {
   "cell_type": "code",
   "execution_count": 103,
   "metadata": {},
   "outputs": [],
   "source": [
    "from xgboost import XGBRegressor\n",
    "\n",
    "params={\n",
    " \"n_estimators\"     : [10,100,200,500,800,1000,1500,2000],\n",
    " \"learning_rate\"    : [0.05, 0.10, 0.15, 0.20, 0.25, 0.30 ] ,\n",
    " \"max_depth\"        : [ 3, 4, 5, 6, 8, 10, 12, 15],\n",
    " \"min_child_weight\" : [ 1, 3, 5, 7 ],\n",
    " \"gamma\"            : [ 0.0, 0.1, 0.2 , 0.3, 0.4 ],\n",
    " \"colsample_bytree\" : [ 0.3, 0.4, 0.5 , 0.7 ]\n",
    "    \n",
    "}\n",
    "model = XGBRegressor()"
   ]
  },
  {
   "cell_type": "code",
   "execution_count": 104,
   "metadata": {},
   "outputs": [],
   "source": [
    "from sklearn.model_selection import RandomizedSearchCV, GridSearchCV\n",
    "grid_search=GridSearchCV(estimator = model,param_grid=params,n_jobs=-1,cv=10,verbose=3)\n",
    "grid_search.fit(x_train,y_train)\n"
   ]
  },
  {
   "cell_type": "code",
   "execution_count": 105,
   "metadata": {},
   "outputs": [
    {
     "data": {
      "text/plain": [
       "XGBRegressor(base_score=0.5, booster='gbtree', colsample_bylevel=1,\n",
       "             colsample_bynode=1, colsample_bytree=1, gamma=0, gpu_id=-1,\n",
       "             importance_type='gain', interaction_constraints='',\n",
       "             learning_rate=0.05, max_delta_step=0, max_depth=6,\n",
       "             min_child_weight=1, missing=nan, monotone_constraints='()',\n",
       "             n_estimators=2000, n_jobs=0, num_parallel_tree=1,\n",
       "             objective='reg:squarederror', random_state=0, reg_alpha=0,\n",
       "             reg_lambda=1, scale_pos_weight=1, subsample=1, tree_method='exact',\n",
       "             validate_parameters=1, verbosity=None)"
      ]
     },
     "execution_count": 105,
     "metadata": {},
     "output_type": "execute_result"
    }
   ],
   "source": [
    "grid_search.best_estimator_\n"
   ]
  },
  {
   "cell_type": "code",
   "execution_count": 106,
   "metadata": {},
   "outputs": [],
   "source": [
    "#bestParameters = [min_child_weight= 3,\n",
    " #max_depth= 15,\n",
    " #learning_rate= 0.25,\n",
    " #gamma= 0.4,\n",
    " #colsample_bytree= 0.7]\n",
    "model = XGBRegressor(base_score=0.5, booster='gbtree', colsample_bylevel=1,\n",
    "             colsample_bynode=1, colsample_bytree=1, gamma=0, gpu_id=-1,\n",
    "             importance_type='gain', interaction_constraints='',\n",
    "             learning_rate=0.05, max_delta_step=0, max_depth=6,\n",
    "             min_child_weight=1, monotone_constraints='()',\n",
    "             n_estimators=2000, n_jobs=0, num_parallel_tree=1,\n",
    "             objective='reg:squarederror', random_state=0, reg_alpha=0,\n",
    "             reg_lambda=1, scale_pos_weight=1, subsample=1, tree_method='exact',\n",
    "             validate_parameters=1, verbosity=None)"
   ]
  },
  {
   "cell_type": "code",
   "execution_count": 107,
   "metadata": {},
   "outputs": [
    {
     "data": {
      "text/plain": [
       "XGBRegressor(base_score=0.5, booster='gbtree', colsample_bylevel=1,\n",
       "             colsample_bynode=1, colsample_bytree=1, gamma=0, gpu_id=-1,\n",
       "             importance_type='gain', interaction_constraints='',\n",
       "             learning_rate=0.05, max_delta_step=0, max_depth=6,\n",
       "             min_child_weight=1, missing=nan, monotone_constraints='()',\n",
       "             n_estimators=2000, n_jobs=0, num_parallel_tree=1,\n",
       "             objective='reg:squarederror', random_state=0, reg_alpha=0,\n",
       "             reg_lambda=1, scale_pos_weight=1, subsample=1, tree_method='exact',\n",
       "             validate_parameters=1, verbosity=None)"
      ]
     },
     "execution_count": 107,
     "metadata": {},
     "output_type": "execute_result"
    }
   ],
   "source": [
    "model.fit(x_train, y_train)"
   ]
  },
  {
   "cell_type": "code",
   "execution_count": 108,
   "metadata": {},
   "outputs": [
    {
     "name": "stdout",
     "output_type": "stream",
     "text": [
      "      variable1  variable2  B  C  D\n",
      "2230        890         77  1  0  0\n",
      "668         884         48  0  0  1\n",
      "3616        536         32  0  0  1\n",
      "2363        477         59  0  0  1\n",
      "142         173         96  0  1  0\n",
      "...         ...        ... .. .. ..\n",
      "1118         65         27  1  0  0\n",
      "3572        710         17  0  1  0\n",
      "2482        487         97  0  0  1\n",
      "643         405         60  0  1  0\n",
      "299         567         92  0  0  0\n",
      "\n",
      "[800 rows x 5 columns]\n",
      "[63538.582  63264.18   38590.06   36326.79   17908.32   44731.61\n",
      " 26901.674  37494.258  52218.996  11808.648  51905.492   7737.1494\n",
      " 41314.258  61771.79   30873.178  61321.332  42584.195  56514.414\n",
      " 40434.137   7500.3564 30825.459  63946.91   23023.787  22484.338\n",
      " 59905.734  37426.617  67348.57   43637.703  30881.396   2508.1553\n",
      " 60852.867   6453.415  26255.502   2107.011   3440.068  59972.062\n",
      " 39293.098  69709.414  37963.207  19354.576  30857.082   8634.831\n",
      " 41488.336  43364.848  14161.262   9567.129  31066.818  40375.617\n",
      " 42033.67   19915.443  28403.166  10766.189  32138.752  46373.285\n",
      "  7102.398  59995.562  54034.723  42062.777  45968.16   14426.446\n",
      " 58746.758  51469.137   8474.533  67798.72   27458.412  49431.17\n",
      " 35373.023  58451.31   29351.035  33304.2    11095.613   2348.9707\n",
      " 34694.703  52630.668   3226.3977 48590.59   14374.124  49736.848\n",
      " 25482.941   6840.3877 42046.12   14354.433  48037.65   46578.637\n",
      " 33269.94   67147.1    59378.84   51674.902   9759.289  41780.62\n",
      " 27471.35   19592.855  26688.178  60380.6    43251.492  22347.143\n",
      " 14044.538  31374.408  27954.908  25897.125  51982.72   23688.033\n",
      " 40183.094  46913.438  68735.31   37374.89   20457.041  31277.309\n",
      " 38332.016  51698.32   53786.29   67373.69   16150.292  55758.266\n",
      " 56982.824  46218.297  37813.027  33106.723  54070.652  30519.857\n",
      " 11416.264   4220.0737  5675.454  37110.055  35435.48   12372.109\n",
      " 28766.979  23426.73    1729.4849 21885.217  38321.508   8387.517\n",
      " 40923.582  37122.44   62132.895  17707.377   7487.159  19293.484\n",
      " 62822.26   45323.68   44544.48   61432.11   60826.77   55403.58\n",
      " 22976.865  33702.242  37666.785   7894.8013 48259.094  39651.74\n",
      " 21440.477  57433.66   16089.93   29255.096  18240.26    8939.626\n",
      "  5050.597   8773.693  33241.855  35376.66   63942.355   1969.9033\n",
      " 31876.928  16229.587  44006.336  24072.111  64424.598  17503.693\n",
      " 52850.223  59885.023  33874.75   16872.898  28323.195  38024.73\n",
      " 63801.773  26423.098  35533.457  42738.11    6662.45   60297.63\n",
      " 48597.65   12010.781  10297.807  65868.24   17655.496  47907.67\n",
      " 58216.473  72185.984  60068.38   47632.086  23582.43   14082.58\n",
      " 23861.264  26961.412  57465.492   9419.878  38455.99   13936.232\n",
      " 53284.773  38331.125  17691.002  33714.305  41525.27   51531.793\n",
      " 47693.586  59453.75   27287.754  55429.676  25591.104  67519.78\n",
      " 14802.511   8171.4785 68687.88   54385.69   12911.382  30224.086\n",
      " 35565.207   6025.9966 40602.3    35494.496  51004.06   28131.422\n",
      " 41038.508  46402.824  52148.     48381.28   32331.564  29789.832\n",
      " 46608.63   24614.533  50690.848   1433.9113 65044.223  42616.926\n",
      " 68739.25   62087.76   25855.662  20395.252  37481.707  16822.252\n",
      " 62719.758  10417.203  38268.277  24521.09    4455.2354 11760.991\n",
      " 34061.33   26181.68   47381.246  56083.453  40364.074  63563.777\n",
      " 10954.286   2471.7808 64066.72   14161.413  36061.94   31484.793\n",
      " 21802.44   16645.744  57616.01   17620.256  32211.62   19964.049\n",
      " 48753.25   24725.896  16641.465  49565.203  24659.328   5045.2666\n",
      " 15392.478  14542.782  24250.59   47598.086  60940.086  35171.742\n",
      " 55823.5    22871.838  28876.307  25558.957  54975.355   7302.478\n",
      "  7613.022  25005.42   40898.305  32910.367  65249.293  65723.61\n",
      " 28971.006  12126.233  62155.062  68945.29   51844.54   10628.834\n",
      " 56949.438   5983.9653 45934.87   25774.453  55595.938  44533.188\n",
      " 66971.66   23260.756  13675.69   68008.73   11137.844  63588.516\n",
      " 67145.164  64604.824  62911.125  49965.688  56563.06   59734.516\n",
      "  8950.257  37096.44   61140.438  20401.027  16224.773  62264.46\n",
      " 12472.797  40662.12   48579.33    5274.993  67901.35   29728.18\n",
      " 42275.484   6056.1216 24591.488  25675.982  62419.402  48686.582\n",
      " 48252.277  18054.006  20697.582  58148.38   28079.527  20326.32\n",
      " 14381.52   17482.285  25807.447  63385.418   6833.3574 12722.022\n",
      " 57525.523  35998.05   51977.055  38061.21   25150.598  63017.64\n",
      " 27087.049  33965.44   66338.27   14746.061  40645.46   59102.324\n",
      " 35880.543  69437.555  30079.512   2761.0784 63583.773  62790.8\n",
      " 66065.93   25768.709  51601.883  38413.605  54583.43   20734.434\n",
      " 46918.797  20872.875  47473.527  55950.812  68481.42   15580.989\n",
      " 67266.98   53878.29   54127.316  21765.467  28380.996  15984.538\n",
      " 28232.66   39808.74   54060.64   21098.734   3341.3103 45769.926\n",
      " 59308.85   24794.12    8490.681  61725.016  59511.3     8052.6772\n",
      "  9636.059  11042.943  44873.87   34319.625  35429.863  32567.453\n",
      " 15492.171  41752.305  30162.992  58945.133  46470.617  62485.016\n",
      " 25577.299  28469.31   53348.805  35718.266  55711.625  11354.218\n",
      " 41731.832   7258.     53754.94   18832.977  15632.2    29957.895\n",
      " 69795.07   37415.516  15135.662  68991.24   47790.89   63546.78\n",
      " 52891.246  14829.134  19624.791  71926.49   59440.363  50255.37\n",
      "  9028.959  55540.46   31415.027  37383.402  25796.496  40281.637\n",
      " 40191.723  49074.883  65386.297  45467.72   25800.25   32877.473\n",
      " 36974.543  36520.11   38098.887  45096.33   15505.121  51894.605\n",
      " 56205.277  54340.805  63387.133  30815.516  37670.223  47682.504\n",
      " 14246.37   19117.617  26567.018  65553.69    4496.514  50814.668\n",
      "  5666.3403 65734.78   63784.36   19352.71   59321.117  17127.09\n",
      " 17571.361  59224.406   4997.5103 42069.484   7911.8325 61410.746\n",
      " 56538.61   31800.932  14090.956  31595.076  15750.349  23235.781\n",
      " 61232.63    7882.9307 23952.707  21349.512  61588.957  12489.678\n",
      " 60597.633  58464.47   48695.28   43114.18   31094.908  12394.012\n",
      " 44553.164  44408.977  49768.47   57614.812  14939.761  13749.655\n",
      "  7300.3696 28037.398  27626.229  27747.572  49965.137  69634.11\n",
      " 55964.87    6590.7563 34806.74   47528.953  49988.984  24306.023\n",
      " 64357.008  21539.674  16394.492  62053.344  35386.387  45292.766\n",
      " 36243.55   46625.016  47159.16   21582.93   21818.574  18612.69\n",
      " 39098.688  68610.58   26479.422  48450.324  44361.492  33911.754\n",
      " 46014.383  60007.258  56020.863   3590.1702 35616.402  57007.49\n",
      " 26647.32   32229.45   14910.231  39748.13   18121.78   17975.438\n",
      " 54068.285  48188.195  50148.312  22261.877  50820.496  25951.24\n",
      " 54315.703   4969.1255  8057.36   12586.416  11743.663  19906.137\n",
      " 41618.414  27494.4    52525.754   8987.099  29136.225   4243.365\n",
      " 29157.418  57777.695  17289.617  43234.977  11091.108  15688.176\n",
      " 35350.926  53047.9    60036.465  14234.721  60169.004  19335.844\n",
      " 11896.672  53961.203  10336.532  62106.1    35521.508  55369.797\n",
      " 30990.393   4658.1455 14357.989  66180.97   56283.383  49253.47\n",
      " 46020.875  60906.555  19600.676  63339.426  17048.49   33603.89\n",
      " 36043.46   36952.973  68449.63   38584.     57466.98   31905.83\n",
      " 50099.168   6171.9307 47436.613  26950.367  43948.26   41539.58\n",
      " 61241.008  58151.848  52472.543  43095.242  39885.742  36855.656\n",
      " 69886.72   55974.03   27232.209   7753.875  14031.303  34959.09\n",
      " 32076.238  29673.902  11259.476  45922.57   17670.814  70799.01\n",
      " 61498.406  38640.902  41781.066  71786.32   28467.516  45760.02\n",
      " 66000.875  60370.816  15990.424   9728.131  11399.311  48832.22\n",
      " 10023.113  56107.516   2040.4274  2283.1604 54586.527  53730.242\n",
      " 49773.06   16125.817  51015.74   44669.523  26655.309  41208.668\n",
      " 31665.693  14493.131  27132.691  65121.79   26853.32   62625.016\n",
      " 34773.754  40949.957  63987.64   55642.418  66777.71   22583.193\n",
      " 64849.22   22013.146  41441.863  59227.41    8298.383  48356.453\n",
      " 48167.348   7636.3096 30405.318  12647.087  59041.17   70909.36\n",
      " 69260.93   44172.742  49611.625  27360.34   31719.846  18905.541\n",
      " 70195.12    9559.92   30965.785  26566.572  23577.484  50784.29\n",
      " 67931.     16492.451  47677.758  49314.69   30560.098  39707.617\n",
      " 45796.45   56317.16    1370.9092 45367.164  39916.88   48160.074\n",
      " 50812.246  54750.85   64065.996  57001.418  24555.38   33456.39\n",
      " 47411.797  58274.297  49886.816  68548.31   31954.271  41511.812\n",
      " 64045.168  58053.484  16920.512  34933.402  35179.777  48157.293\n",
      " 46085.766  48243.016  59082.254  51081.035  61941.195  67416.93\n",
      " 62076.387  65206.812  16051.581  60104.195   2088.1274  7726.1147\n",
      "  5234.0522 18790.13   28257.467   9850.771  29275.225  31348.709\n",
      " 21116.709  51263.715  40593.35   14177.739  19613.52   64060.895\n",
      " 33354.5    11059.577  15816.158  32492.906  35223.758  61214.27\n",
      " 13181.194  42000.88   32869.7    37496.32   25267.54   33743.207\n",
      " 24306.867  46071.418  11717.212  65641.67   18512.83   47442.348\n",
      " 37435.07   32884.613  64250.934  54164.855  41994.418  49522.72\n",
      " 42060.04   66368.016  20210.262   6725.8687 52531.47   57114.906\n",
      " 62613.11   10784.9    29075.525  60897.977   8232.473  21139.693\n",
      " 58201.637  15383.612   6621.0063  8521.61   25258.338   8287.303\n",
      " 37642.902  55417.79   24918.098  32160.127  22546.771  35972.82\n",
      " 28451.83   43380.273   6494.305  15714.054  49963.957  43563.688\n",
      " 37355.855  69741.41   69679.35   11940.652  63892.168  47647.008\n",
      " 65506.723  35387.54   19967.344  11996.992  51922.945   4712.145\n",
      "  5792.5747 10716.97   26792.646   6095.475  48747.88   39392.816\n",
      " 31021.287  43060.95  ]\n"
     ]
    }
   ],
   "source": [
    "from sklearn.metrics import mean_absolute_error\n",
    "predictions = model.predict(x_test)\n",
    "print(x_test)\n",
    "print(predictions)"
   ]
  },
  {
   "cell_type": "code",
   "execution_count": 109,
   "metadata": {},
   "outputs": [
    {
     "name": "stdout",
     "output_type": "stream",
     "text": [
      "the mean absolute error is  131.54838500976564\n"
     ]
    }
   ],
   "source": [
    "mae = mean_absolute_error(predictions, y_test)\n",
    "print(\"the mean absolute error is \", mae)"
   ]
  },
  {
   "cell_type": "code",
   "execution_count": 110,
   "metadata": {},
   "outputs": [
    {
     "name": "stdout",
     "output_type": "stream",
     "text": [
      "   variable1  variable2 variable3\n",
      "0        552         96         A\n",
      "1        552         96         B\n",
      "2        552         96         C\n",
      "3        552         96         D\n"
     ]
    }
   ],
   "source": [
    "test=pd.read_csv(\"file.csv\")\n",
    "test = test.iloc[:,1:4]\n",
    "print(test)"
   ]
  },
  {
   "cell_type": "code",
   "execution_count": 111,
   "metadata": {},
   "outputs": [
    {
     "name": "stdout",
     "output_type": "stream",
     "text": [
      "   B  C  D\n",
      "0  0  0  0\n",
      "1  1  0  0\n",
      "2  0  1  0\n",
      "3  0  0  1\n"
     ]
    }
   ],
   "source": [
    "variable2 =pd.get_dummies(test['variable3'],drop_first=True)\n",
    "\n",
    "print(variable2)"
   ]
  },
  {
   "cell_type": "code",
   "execution_count": 112,
   "metadata": {},
   "outputs": [
    {
     "name": "stdout",
     "output_type": "stream",
     "text": [
      "   variable1  variable2  B  C  D\n",
      "0        552         96  0  0  0\n",
      "1        552         96  1  0  0\n",
      "2        552         96  0  1  0\n",
      "3        552         96  0  0  1\n"
     ]
    }
   ],
   "source": [
    "test=test.drop(['variable3'],axis=1)\n",
    "test=pd.concat([test,variable2],axis=1)\n",
    "print(test)"
   ]
  },
  {
   "cell_type": "code",
   "execution_count": 113,
   "metadata": {},
   "outputs": [
    {
     "name": "stdout",
     "output_type": "stream",
     "text": [
      "[42155.36  42756.098 43416.207 44133.184]\n"
     ]
    }
   ],
   "source": [
    "prediction2 = model.predict(test)\n",
    "print(prediction2)"
   ]
  },
  {
   "cell_type": "code",
   "execution_count": 114,
   "metadata": {},
   "outputs": [],
   "source": [
    "import pickle"
   ]
  },
  {
   "cell_type": "code",
   "execution_count": 115,
   "metadata": {},
   "outputs": [],
   "source": [
    "with open('model_pickle', 'wb') as f:\n",
    "    pickle.dump(model, f)"
   ]
  },
  {
   "cell_type": "code",
   "execution_count": 116,
   "metadata": {},
   "outputs": [],
   "source": [
    "with open('model_pickle', 'rb') as f:\n",
    "    mp = pickle.load(f)"
   ]
  },
  {
   "cell_type": "code",
   "execution_count": 117,
   "metadata": {},
   "outputs": [
    {
     "name": "stdout",
     "output_type": "stream",
     "text": [
      "[42155.36  42756.098 43416.207 44133.184]\n"
     ]
    }
   ],
   "source": [
    "print(mp.predict(test))"
   ]
  },
  {
   "cell_type": "code",
   "execution_count": null,
   "metadata": {},
   "outputs": [],
   "source": []
  }
 ],
 "metadata": {
  "kernelspec": {
   "display_name": "Python 3",
   "language": "python",
   "name": "python3"
  },
  "language_info": {
   "codemirror_mode": {
    "name": "ipython",
    "version": 3
   },
   "file_extension": ".py",
   "mimetype": "text/x-python",
   "name": "python",
   "nbconvert_exporter": "python",
   "pygments_lexer": "ipython3",
   "version": "3.7.6"
  }
 },
 "nbformat": 4,
 "nbformat_minor": 4
}
