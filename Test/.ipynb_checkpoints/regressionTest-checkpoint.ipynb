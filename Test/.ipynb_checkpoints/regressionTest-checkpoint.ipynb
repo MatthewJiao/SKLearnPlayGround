{
 "cells": [
  {
   "cell_type": "code",
   "execution_count": 27,
   "metadata": {},
   "outputs": [],
   "source": [
    "import pandas as pd"
   ]
  },
  {
   "cell_type": "code",
   "execution_count": 28,
   "metadata": {},
   "outputs": [],
   "source": [
    "data=pd.read_csv('dataset.csv')"
   ]
  },
  {
   "cell_type": "code",
   "execution_count": 29,
   "metadata": {},
   "outputs": [
    {
     "data": {
      "text/html": [
       "<div>\n",
       "<style scoped>\n",
       "    .dataframe tbody tr th:only-of-type {\n",
       "        vertical-align: middle;\n",
       "    }\n",
       "\n",
       "    .dataframe tbody tr th {\n",
       "        vertical-align: top;\n",
       "    }\n",
       "\n",
       "    .dataframe thead th {\n",
       "        text-align: right;\n",
       "    }\n",
       "</style>\n",
       "<table border=\"1\" class=\"dataframe\">\n",
       "  <thead>\n",
       "    <tr style=\"text-align: right;\">\n",
       "      <th></th>\n",
       "      <th>RowNumber</th>\n",
       "      <th>variable1</th>\n",
       "      <th>variable2</th>\n",
       "      <th>result</th>\n",
       "    </tr>\n",
       "  </thead>\n",
       "  <tbody>\n",
       "    <tr>\n",
       "      <th>0</th>\n",
       "      <td>1</td>\n",
       "      <td>552</td>\n",
       "      <td>96</td>\n",
       "      <td>648</td>\n",
       "    </tr>\n",
       "    <tr>\n",
       "      <th>1</th>\n",
       "      <td>2</td>\n",
       "      <td>971</td>\n",
       "      <td>100</td>\n",
       "      <td>1071</td>\n",
       "    </tr>\n",
       "    <tr>\n",
       "      <th>2</th>\n",
       "      <td>3</td>\n",
       "      <td>682</td>\n",
       "      <td>76</td>\n",
       "      <td>758</td>\n",
       "    </tr>\n",
       "    <tr>\n",
       "      <th>3</th>\n",
       "      <td>4</td>\n",
       "      <td>320</td>\n",
       "      <td>48</td>\n",
       "      <td>368</td>\n",
       "    </tr>\n",
       "    <tr>\n",
       "      <th>4</th>\n",
       "      <td>5</td>\n",
       "      <td>639</td>\n",
       "      <td>17</td>\n",
       "      <td>656</td>\n",
       "    </tr>\n",
       "  </tbody>\n",
       "</table>\n",
       "</div>"
      ],
      "text/plain": [
       "   RowNumber  variable1  variable2  result\n",
       "0          1        552         96     648\n",
       "1          2        971        100    1071\n",
       "2          3        682         76     758\n",
       "3          4        320         48     368\n",
       "4          5        639         17     656"
      ]
     },
     "execution_count": 29,
     "metadata": {},
     "output_type": "execute_result"
    }
   ],
   "source": [
    "data.head()"
   ]
  },
  {
   "cell_type": "code",
   "execution_count": 35,
   "metadata": {},
   "outputs": [
    {
     "name": "stdout",
     "output_type": "stream",
     "text": [
      "      variable1  variable2\n",
      "0           552         96\n",
      "1           971        100\n",
      "2           682         76\n",
      "3           320         48\n",
      "4           639         17\n",
      "...         ...        ...\n",
      "1409        700         11\n",
      "1410        136         60\n",
      "1411        830         12\n",
      "1412        967         92\n",
      "1413        950         26\n",
      "\n",
      "[1414 rows x 2 columns]\n"
     ]
    }
   ],
   "source": [
    "x = data.iloc[:,1:3]\n",
    "y = data.iloc[:,3]\n",
    "print(x)"
   ]
  },
  {
   "cell_type": "code",
   "execution_count": 31,
   "metadata": {},
   "outputs": [
    {
     "name": "stdout",
     "output_type": "stream",
     "text": [
      "      variable1  variable2\n",
      "278         955         37\n",
      "1278        165         18\n",
      "464         766         86\n",
      "152          38         54\n",
      "202          64         84\n",
      "...         ...        ...\n",
      "1140        276         48\n",
      "1045        233         34\n",
      "1158        728         85\n",
      "390         550         70\n",
      "1256        487         29\n",
      "\n",
      "[283 rows x 2 columns]\n"
     ]
    }
   ],
   "source": [
    "from sklearn.model_selection import train_test_split\n",
    "x_train, x_test, y_train , y_test = train_test_split(x,y, random_state = 0, test_size = 0.2)\n",
    "print(x_test)"
   ]
  },
  {
   "cell_type": "code",
   "execution_count": 32,
   "metadata": {},
   "outputs": [
    {
     "data": {
      "text/plain": [
       "XGBRegressor(base_score=0.5, booster='gbtree', colsample_bylevel=1,\n",
       "             colsample_bynode=1, colsample_bytree=1, gamma=0, gpu_id=-1,\n",
       "             importance_type='gain', interaction_constraints='',\n",
       "             learning_rate=0.300000012, max_delta_step=0, max_depth=6,\n",
       "             min_child_weight=1, missing=nan, monotone_constraints='()',\n",
       "             n_estimators=100, n_jobs=0, num_parallel_tree=1,\n",
       "             objective='reg:squarederror', random_state=0, reg_alpha=0,\n",
       "             reg_lambda=1, scale_pos_weight=1, subsample=1, tree_method='exact',\n",
       "             validate_parameters=1, verbosity=None)"
      ]
     },
     "execution_count": 32,
     "metadata": {},
     "output_type": "execute_result"
    }
   ],
   "source": [
    "from xgboost import XGBRegressor\n",
    "model = XGBRegressor(random_state = 0)\n",
    "model.fit(x_train, y_train)"
   ]
  },
  {
   "cell_type": "code",
   "execution_count": 33,
   "metadata": {},
   "outputs": [
    {
     "name": "stdout",
     "output_type": "stream",
     "text": [
      "      variable1  variable2\n",
      "278         955         37\n",
      "1278        165         18\n",
      "464         766         86\n",
      "152          38         54\n",
      "202          64         84\n",
      "...         ...        ...\n",
      "1140        276         48\n",
      "1045        233         34\n",
      "1158        728         85\n",
      "390         550         70\n",
      "1256        487         29\n",
      "\n",
      "[283 rows x 2 columns]\n",
      "[ 993.0766    184.06276   855.9084    103.517586  148.40936   424.53885\n",
      "  228.83473   465.44873   901.9682    385.61276  1005.918      87.94685\n",
      "  839.3318    106.527725  135.03998   711.2095    962.80676   131.80553\n",
      "  349.05377  1048.6512    894.4033    138.70673   214.46361   826.748\n",
      "  489.64636   204.47801   743.0859   1056.7965    659.35425   411.7626\n",
      "   75.29645   775.0459    264.9484    469.0112    471.7271    968.782\n",
      "  709.4123    798.075     893.1626    565.9608    354.6145    569.4843\n",
      "  743.1986    360.3835    818.5432    173.18298  1040.8422    160.39479\n",
      "  690.31964   137.28833   716.92694   612.68726   720.4445    147.2979\n",
      "  776.04114   964.3653    763.9601    535.1577    276.61804   890.1363\n",
      "  966.7607    595.98785   701.09955   994.255     608.45044    74.706955\n",
      "  275.50165   754.70197   569.7233    950.1095    893.9261    133.09274\n",
      "  253.55254  1028.522     952.16925   544.9697     34.531082 1006.2124\n",
      "  165.0994    632.66315   148.46541   915.79004   992.5641   1005.673\n",
      "  758.4698    619.17505   338.62732   840.65326   558.6571    733.77\n",
      "  941.63025   893.5758    639.06494   308.79      474.36563   423.75922\n",
      "  640.77045  1080.7948    465.96152  1064.7258     72.91394  1026.7122\n",
      " 1043.6909    146.87111   592.23      768.77856   291.1199    396.4041\n",
      "  149.30167   591.7963    950.73804   692.7411    643.0876    220.61424\n",
      "  516.7972    225.0569    432.21695   810.5834    827.0347    885.2599\n",
      " 1065.1102    555.2896    794.9981    615.02545   465.1138    714.8007\n",
      "  213.82417   649.6414    248.71796   972.85895   778.3669    347.11642\n",
      "  737.7051    360.09406    31.609228  848.89856   434.81342   143.56915\n",
      "  483.26987   271.38574   125.30058   616.9489    181.57288   549.65955\n",
      "  242.24065   871.3652    166.71233   422.0989    162.44289  1022.16943\n",
      "  288.40204   165.87798   526.0318    219.30484    76.58062   717.94727\n",
      "  614.82697   106.61537   986.2709    341.12494   891.7632    358.2411\n",
      "  560.39014   599.242     389.64325   761.14294   661.54663   101.31035\n",
      "  750.16364  1065.2959    693.99664   286.42313   631.66205   427.4888\n",
      "   64.811646  156.30215   569.2896     45.84838   853.3112    706.4068\n",
      "  255.78545   394.34927   434.86676   395.8831    823.0208    198.28697\n",
      "  353.8038   1036.0864    929.8096    305.42636   511.44055   407.0034\n",
      "  678.4693    742.84845   596.28577   553.6212     65.71462   296.9065\n",
      "  732.5404    782.0165    176.80064   854.89484   518.4205    360.78406\n",
      "  741.6793     99.518845  741.356     204.44408   147.62949   186.07156\n",
      "  501.15524   483.97238   214.0419    186.78522   726.4682    251.66373\n",
      "  239.90894   253.38675   443.4348    902.06854   449.96613   382.99893\n",
      "  544.272     845.0093    957.83563   388.79666   678.41797   438.5466\n",
      "  742.41626   800.16754   498.41998   897.3079    744.7379    643.77045\n",
      "  347.76416   780.3781    848.9053    573.33856   933.2028    948.8414\n",
      "  529.9152    187.39053   990.153     293.20874   145.1444    188.19849\n",
      "  778.7786    709.9015    783.16534   866.35486   738.26196   461.1265\n",
      "  629.34283   286.08487   880.66504   308.90485   915.9426    495.92035\n",
      "  752.86035   999.3436    483.84732   277.13617   368.96902   818.5791\n",
      "  577.8468    426.12537   850.4697    474.6777    422.37747   388.48495\n",
      " 1063.9106    857.7893    454.44287   322.0143    788.1378    126.71817\n",
      "  568.7157   1068.3151    322.19095   273.2221    808.52216   617.42883\n",
      "  514.9111  ]\n"
     ]
    }
   ],
   "source": [
    "from sklearn.metrics import mean_absolute_error\n",
    "predictions = model.predict(x_test)\n",
    "print(x_test)\n",
    "print(predictions)"
   ]
  },
  {
   "cell_type": "code",
   "execution_count": 34,
   "metadata": {},
   "outputs": [
    {
     "name": "stdout",
     "output_type": "stream",
     "text": [
      "the mean absolute error is  3.863194084841455\n"
     ]
    }
   ],
   "source": [
    "mae = mean_absolute_error(predictions, y_test)\n",
    "print(\"the mean absolute error is \", mae)"
   ]
  },
  {
   "cell_type": "code",
   "execution_count": 49,
   "metadata": {},
   "outputs": [
    {
     "name": "stdout",
     "output_type": "stream",
     "text": [
      "   RowNumber  variable1  variable2\n",
      "0          1        100         20\n"
     ]
    }
   ],
   "source": [
    "test=pd.read_csv(\"file.csv\")\n",
    "test = test.iloc[:,1]\n",
    "\n",
    "print(test)"
   ]
  },
  {
   "cell_type": "code",
   "execution_count": null,
   "metadata": {},
   "outputs": [],
   "source": []
  }
 ],
 "metadata": {
  "kernelspec": {
   "display_name": "Python 3",
   "language": "python",
   "name": "python3"
  },
  "language_info": {
   "codemirror_mode": {
    "name": "ipython",
    "version": 3
   },
   "file_extension": ".py",
   "mimetype": "text/x-python",
   "name": "python",
   "nbconvert_exporter": "python",
   "pygments_lexer": "ipython3",
   "version": "3.7.6"
  }
 },
 "nbformat": 4,
 "nbformat_minor": 4
}
