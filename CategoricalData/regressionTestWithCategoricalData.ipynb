{
 "cells": [
  {
   "cell_type": "code",
   "execution_count": 1385,
   "metadata": {},
   "outputs": [],
   "source": [
    "import pandas as pd"
   ]
  },
  {
   "cell_type": "code",
   "execution_count": 1386,
   "metadata": {},
   "outputs": [],
   "source": [
    "data=pd.read_csv('dataset.csv')"
   ]
  },
  {
   "cell_type": "code",
   "execution_count": 1387,
   "metadata": {},
   "outputs": [
    {
     "data": {
      "text/html": [
       "<div>\n",
       "<style scoped>\n",
       "    .dataframe tbody tr th:only-of-type {\n",
       "        vertical-align: middle;\n",
       "    }\n",
       "\n",
       "    .dataframe tbody tr th {\n",
       "        vertical-align: top;\n",
       "    }\n",
       "\n",
       "    .dataframe thead th {\n",
       "        text-align: right;\n",
       "    }\n",
       "</style>\n",
       "<table border=\"1\" class=\"dataframe\">\n",
       "  <thead>\n",
       "    <tr style=\"text-align: right;\">\n",
       "      <th></th>\n",
       "      <th>RowNumber</th>\n",
       "      <th>variable1</th>\n",
       "      <th>variable2</th>\n",
       "      <th>variable3</th>\n",
       "      <th>result</th>\n",
       "    </tr>\n",
       "  </thead>\n",
       "  <tbody>\n",
       "    <tr>\n",
       "      <th>0</th>\n",
       "      <td>1</td>\n",
       "      <td>418</td>\n",
       "      <td>11</td>\n",
       "      <td>D</td>\n",
       "      <td>29172</td>\n",
       "    </tr>\n",
       "    <tr>\n",
       "      <th>1</th>\n",
       "      <td>2</td>\n",
       "      <td>266</td>\n",
       "      <td>82</td>\n",
       "      <td>B</td>\n",
       "      <td>22968</td>\n",
       "    </tr>\n",
       "    <tr>\n",
       "      <th>2</th>\n",
       "      <td>3</td>\n",
       "      <td>905</td>\n",
       "      <td>46</td>\n",
       "      <td>D</td>\n",
       "      <td>64668</td>\n",
       "    </tr>\n",
       "    <tr>\n",
       "      <th>3</th>\n",
       "      <td>4</td>\n",
       "      <td>629</td>\n",
       "      <td>59</td>\n",
       "      <td>C</td>\n",
       "      <td>46096</td>\n",
       "    </tr>\n",
       "    <tr>\n",
       "      <th>4</th>\n",
       "      <td>5</td>\n",
       "      <td>193</td>\n",
       "      <td>53</td>\n",
       "      <td>B</td>\n",
       "      <td>16236</td>\n",
       "    </tr>\n",
       "  </tbody>\n",
       "</table>\n",
       "</div>"
      ],
      "text/plain": [
       "   RowNumber  variable1  variable2 variable3  result\n",
       "0          1        418         11         D   29172\n",
       "1          2        266         82         B   22968\n",
       "2          3        905         46         D   64668\n",
       "3          4        629         59         C   46096\n",
       "4          5        193         53         B   16236"
      ]
     },
     "execution_count": 1387,
     "metadata": {},
     "output_type": "execute_result"
    }
   ],
   "source": [
    "data.head()"
   ]
  },
  {
   "cell_type": "code",
   "execution_count": null,
   "metadata": {},
   "outputs": [],
   "source": []
  },
  {
   "cell_type": "code",
   "execution_count": 1388,
   "metadata": {},
   "outputs": [
    {
     "name": "stdout",
     "output_type": "stream",
     "text": [
      "0       29172\n",
      "1       22968\n",
      "2       64668\n",
      "3       46096\n",
      "4       16236\n",
      "        ...  \n",
      "3995    17748\n",
      "3996    14625\n",
      "3997    58344\n",
      "3998    15164\n",
      "3999    15378\n",
      "Name: result, Length: 4000, dtype: int64\n",
      "      B  C  D\n",
      "0     0  0  1\n",
      "1     1  0  0\n",
      "2     0  0  1\n",
      "3     0  1  0\n",
      "4     1  0  0\n",
      "...  .. .. ..\n",
      "3995  0  0  1\n",
      "3996  0  0  0\n",
      "3997  1  0  0\n",
      "3998  0  0  1\n",
      "3999  1  0  0\n",
      "\n",
      "[4000 rows x 3 columns]\n"
     ]
    },
    {
     "data": {
      "text/html": [
       "<div>\n",
       "<style scoped>\n",
       "    .dataframe tbody tr th:only-of-type {\n",
       "        vertical-align: middle;\n",
       "    }\n",
       "\n",
       "    .dataframe tbody tr th {\n",
       "        vertical-align: top;\n",
       "    }\n",
       "\n",
       "    .dataframe thead th {\n",
       "        text-align: right;\n",
       "    }\n",
       "</style>\n",
       "<table border=\"1\" class=\"dataframe\">\n",
       "  <thead>\n",
       "    <tr style=\"text-align: right;\">\n",
       "      <th></th>\n",
       "      <th>B</th>\n",
       "      <th>C</th>\n",
       "      <th>D</th>\n",
       "    </tr>\n",
       "  </thead>\n",
       "  <tbody>\n",
       "    <tr>\n",
       "      <th>0</th>\n",
       "      <td>0</td>\n",
       "      <td>0</td>\n",
       "      <td>1</td>\n",
       "    </tr>\n",
       "    <tr>\n",
       "      <th>1</th>\n",
       "      <td>1</td>\n",
       "      <td>0</td>\n",
       "      <td>0</td>\n",
       "    </tr>\n",
       "    <tr>\n",
       "      <th>2</th>\n",
       "      <td>0</td>\n",
       "      <td>0</td>\n",
       "      <td>1</td>\n",
       "    </tr>\n",
       "    <tr>\n",
       "      <th>3</th>\n",
       "      <td>0</td>\n",
       "      <td>1</td>\n",
       "      <td>0</td>\n",
       "    </tr>\n",
       "    <tr>\n",
       "      <th>4</th>\n",
       "      <td>1</td>\n",
       "      <td>0</td>\n",
       "      <td>0</td>\n",
       "    </tr>\n",
       "  </tbody>\n",
       "</table>\n",
       "</div>"
      ],
      "text/plain": [
       "   B  C  D\n",
       "0  0  0  1\n",
       "1  1  0  0\n",
       "2  0  0  1\n",
       "3  0  1  0\n",
       "4  1  0  0"
      ]
     },
     "execution_count": 1388,
     "metadata": {},
     "output_type": "execute_result"
    }
   ],
   "source": [
    "x = data.iloc[:,1:4]\n",
    "y = data.iloc[:,4]\n",
    "print(y)\n",
    "variable =pd.get_dummies(x['variable3'],drop_first=True)\n",
    "print(variable)\n",
    "variable.head()"
   ]
  },
  {
   "cell_type": "code",
   "execution_count": 1389,
   "metadata": {},
   "outputs": [
    {
     "data": {
      "text/html": [
       "<div>\n",
       "<style scoped>\n",
       "    .dataframe tbody tr th:only-of-type {\n",
       "        vertical-align: middle;\n",
       "    }\n",
       "\n",
       "    .dataframe tbody tr th {\n",
       "        vertical-align: top;\n",
       "    }\n",
       "\n",
       "    .dataframe thead th {\n",
       "        text-align: right;\n",
       "    }\n",
       "</style>\n",
       "<table border=\"1\" class=\"dataframe\">\n",
       "  <thead>\n",
       "    <tr style=\"text-align: right;\">\n",
       "      <th></th>\n",
       "      <th>variable1</th>\n",
       "      <th>variable2</th>\n",
       "    </tr>\n",
       "  </thead>\n",
       "  <tbody>\n",
       "    <tr>\n",
       "      <th>0</th>\n",
       "      <td>418</td>\n",
       "      <td>11</td>\n",
       "    </tr>\n",
       "    <tr>\n",
       "      <th>1</th>\n",
       "      <td>266</td>\n",
       "      <td>82</td>\n",
       "    </tr>\n",
       "    <tr>\n",
       "      <th>2</th>\n",
       "      <td>905</td>\n",
       "      <td>46</td>\n",
       "    </tr>\n",
       "    <tr>\n",
       "      <th>3</th>\n",
       "      <td>629</td>\n",
       "      <td>59</td>\n",
       "    </tr>\n",
       "    <tr>\n",
       "      <th>4</th>\n",
       "      <td>193</td>\n",
       "      <td>53</td>\n",
       "    </tr>\n",
       "  </tbody>\n",
       "</table>\n",
       "</div>"
      ],
      "text/plain": [
       "   variable1  variable2\n",
       "0        418         11\n",
       "1        266         82\n",
       "2        905         46\n",
       "3        629         59\n",
       "4        193         53"
      ]
     },
     "execution_count": 1389,
     "metadata": {},
     "output_type": "execute_result"
    }
   ],
   "source": [
    "x=x.drop(['variable3'],axis=1)\n",
    "x.head()"
   ]
  },
  {
   "cell_type": "code",
   "execution_count": 1390,
   "metadata": {},
   "outputs": [
    {
     "data": {
      "text/html": [
       "<div>\n",
       "<style scoped>\n",
       "    .dataframe tbody tr th:only-of-type {\n",
       "        vertical-align: middle;\n",
       "    }\n",
       "\n",
       "    .dataframe tbody tr th {\n",
       "        vertical-align: top;\n",
       "    }\n",
       "\n",
       "    .dataframe thead th {\n",
       "        text-align: right;\n",
       "    }\n",
       "</style>\n",
       "<table border=\"1\" class=\"dataframe\">\n",
       "  <thead>\n",
       "    <tr style=\"text-align: right;\">\n",
       "      <th></th>\n",
       "      <th>variable1</th>\n",
       "      <th>variable2</th>\n",
       "      <th>B</th>\n",
       "      <th>C</th>\n",
       "      <th>D</th>\n",
       "    </tr>\n",
       "  </thead>\n",
       "  <tbody>\n",
       "    <tr>\n",
       "      <th>0</th>\n",
       "      <td>418</td>\n",
       "      <td>11</td>\n",
       "      <td>0</td>\n",
       "      <td>0</td>\n",
       "      <td>1</td>\n",
       "    </tr>\n",
       "    <tr>\n",
       "      <th>1</th>\n",
       "      <td>266</td>\n",
       "      <td>82</td>\n",
       "      <td>1</td>\n",
       "      <td>0</td>\n",
       "      <td>0</td>\n",
       "    </tr>\n",
       "    <tr>\n",
       "      <th>2</th>\n",
       "      <td>905</td>\n",
       "      <td>46</td>\n",
       "      <td>0</td>\n",
       "      <td>0</td>\n",
       "      <td>1</td>\n",
       "    </tr>\n",
       "    <tr>\n",
       "      <th>3</th>\n",
       "      <td>629</td>\n",
       "      <td>59</td>\n",
       "      <td>0</td>\n",
       "      <td>1</td>\n",
       "      <td>0</td>\n",
       "    </tr>\n",
       "    <tr>\n",
       "      <th>4</th>\n",
       "      <td>193</td>\n",
       "      <td>53</td>\n",
       "      <td>1</td>\n",
       "      <td>0</td>\n",
       "      <td>0</td>\n",
       "    </tr>\n",
       "  </tbody>\n",
       "</table>\n",
       "</div>"
      ],
      "text/plain": [
       "   variable1  variable2  B  C  D\n",
       "0        418         11  0  0  1\n",
       "1        266         82  1  0  0\n",
       "2        905         46  0  0  1\n",
       "3        629         59  0  1  0\n",
       "4        193         53  1  0  0"
      ]
     },
     "execution_count": 1390,
     "metadata": {},
     "output_type": "execute_result"
    }
   ],
   "source": [
    "x=pd.concat([x,variable],axis=1)\n",
    "x.head()"
   ]
  },
  {
   "cell_type": "code",
   "execution_count": 1391,
   "metadata": {},
   "outputs": [
    {
     "data": {
      "image/png": "[encoded data removed]",
      "text/plain": [
       "<Figure size 1440x1440 with 2 Axes>"
      ]
     },
     "metadata": {
      "needs_background": "light"
     },
     "output_type": "display_data"
    }
   ],
   "source": [
    "X = pd.concat([x,y], axis=1)\n",
    "## Correlation\n",
    "import seaborn as sns\n",
    "import matplotlib.pyplot as plt\n",
    "\n",
    "plt.figure(figsize=(20,20))\n",
    "g=sns.heatmap(X.corr(),annot=True,cmap=\"RdYlGn\")"
   ]
  },
  {
   "cell_type": "code",
   "execution_count": 1392,
   "metadata": {},
   "outputs": [
    {
     "name": "stdout",
     "output_type": "stream",
     "text": [
      "      variable1  variable2  B  C  D\n",
      "2230        890         77  1  0  0\n",
      "668         884         48  0  0  1\n",
      "3616        536         32  0  0  1\n",
      "2363        477         59  0  0  1\n",
      "142         173         96  0  1  0\n",
      "...         ...        ... .. .. ..\n",
      "1118         65         27  1  0  0\n",
      "3572        710         17  0  1  0\n",
      "2482        487         97  0  0  1\n",
      "643         405         60  0  1  0\n",
      "299         567         92  0  0  0\n",
      "\n",
      "[800 rows x 5 columns]\n"
     ]
    }
   ],
   "source": [
    "from sklearn.model_selection import train_test_split\n",
    "x_train, x_test, y_train , y_test = train_test_split(x,y, random_state = 0, test_size = 0.2)\n",
    "print(x_test)"
   ]
  },
  {
   "cell_type": "code",
   "execution_count": 1393,
   "metadata": {},
   "outputs": [],
   "source": [
    "#from sklearn.preprocessing import StandardScaler\n",
    "#sc = StandardScaler()\n",
    "#x_train = sc.fit_transform(x_train)\n",
    "#x_test = sc.transform(x_test)\n",
    "#print(x_train)"
   ]
  },
  {
   "cell_type": "code",
   "execution_count": 1394,
   "metadata": {},
   "outputs": [],
   "source": [
    "from xgboost import XGBRegressor\n",
    "\n",
    "params={\n",
    " \"n_estimators\"     : [10,100,200,500,800,1000,1200,1500,1700,2000,2200,2400,2600,2800,3000],\n",
    " \"learning_rate\"    : [0.05, 0.10, 0.15, 0.20, 0.25, 0.30, 0.35, 0.40 ] ,\n",
    " \"max_depth\"        : [ 3, 4, 5, 6, 8, 10, 12, 15],\n",
    " \"min_child_weight\" : [ 1, 3, 5, 7, 8,9,10 ],\n",
    " \"gamma\"            : [ 0.0, 0.1, 0.2 , 0.3, 0.4, 0.5,0.6 ],\n",
    " \"colsample_bytree\" : [ 0.3, 0.4, 0.5 , 0.7 ]\n",
    "    \n",
    "}\n",
    "model = XGBRegressor()"
   ]
  },
  {
   "cell_type": "code",
   "execution_count": 1395,
   "metadata": {},
   "outputs": [
    {
     "name": "stdout",
     "output_type": "stream",
     "text": [
      "Fitting 5 folds for each of 5 candidates, totalling 25 fits\n"
     ]
    },
    {
     "name": "stderr",
     "output_type": "stream",
     "text": [
      "[Parallel(n_jobs=-1)]: Using backend LokyBackend with 8 concurrent workers.\n",
      "[Parallel(n_jobs=-1)]: Done  19 out of  25 | elapsed:    7.6s remaining:    2.3s\n",
      "[Parallel(n_jobs=-1)]: Done  25 out of  25 | elapsed:   13.3s finished\n"
     ]
    },
    {
     "data": {
      "text/plain": [
       "RandomizedSearchCV(cv=5, error_score=nan,\n",
       "                   estimator=XGBRegressor(base_score=None, booster=None,\n",
       "                                          colsample_bylevel=None,\n",
       "                                          colsample_bynode=None,\n",
       "                                          colsample_bytree=None, gamma=None,\n",
       "                                          gpu_id=None, importance_type='gain',\n",
       "                                          interaction_constraints=None,\n",
       "                                          learning_rate=None,\n",
       "                                          max_delta_step=None, max_depth=None,\n",
       "                                          min_child_weight=None, missing=nan,\n",
       "                                          monotone_constraints=None,\n",
       "                                          n_...\n",
       "                                                             0.7],\n",
       "                                        'gamma': [0.0, 0.1, 0.2, 0.3, 0.4, 0.5,\n",
       "                                                  0.6],\n",
       "                                        'learning_rate': [0.05, 0.1, 0.15, 0.2,\n",
       "                                                          0.25, 0.3, 0.35,\n",
       "                                                          0.4],\n",
       "                                        'max_depth': [3, 4, 5, 6, 8, 10, 12,\n",
       "                                                      15],\n",
       "                                        'min_child_weight': [1, 3, 5, 7, 8, 9,\n",
       "                                                             10],\n",
       "                                        'n_estimators': [10, 100, 200, 500, 800,\n",
       "                                                         1000, 1200, 1500, 1700,\n",
       "                                                         2000, 2200, 2400, 2600,\n",
       "                                                         2800, 3000]},\n",
       "                   pre_dispatch='2*n_jobs', random_state=None, refit=True,\n",
       "                   return_train_score=False, scoring=None, verbose=3)"
      ]
     },
     "execution_count": 1395,
     "metadata": {},
     "output_type": "execute_result"
    }
   ],
   "source": [
    "from sklearn.model_selection import RandomizedSearchCV, GridSearchCV\n",
    "random_search=RandomizedSearchCV(model,param_distributions=params,n_iter=5,n_jobs=-1,cv=5,verbose=3)\n",
    "random_search.fit(x_train,y_train)\n"
   ]
  },
  {
   "cell_type": "code",
   "execution_count": null,
   "metadata": {},
   "outputs": [],
   "source": []
  },
  {
   "cell_type": "code",
   "execution_count": 1396,
   "metadata": {},
   "outputs": [
    {
     "data": {
      "text/plain": [
       "XGBRegressor(base_score=0.5, booster='gbtree', colsample_bylevel=1,\n",
       "             colsample_bynode=1, colsample_bytree=0.4, gamma=0.6, gpu_id=-1,\n",
       "             importance_type='gain', interaction_constraints='',\n",
       "             learning_rate=0.4, max_delta_step=0, max_depth=8,\n",
       "             min_child_weight=8, missing=nan, monotone_constraints='()',\n",
       "             n_estimators=500, n_jobs=0, num_parallel_tree=1,\n",
       "             objective='reg:squarederror', random_state=0, reg_alpha=0,\n",
       "             reg_lambda=1, scale_pos_weight=1, subsample=1, tree_method='exact',\n",
       "             validate_parameters=1, verbosity=None)"
      ]
     },
     "execution_count": 1396,
     "metadata": {},
     "output_type": "execute_result"
    }
   ],
   "source": [
    "random_search.best_estimator_"
   ]
  },
  {
   "cell_type": "code",
   "execution_count": 1397,
   "metadata": {},
   "outputs": [
    {
     "data": {
      "text/plain": [
       "{'n_estimators': 500,\n",
       " 'min_child_weight': 8,\n",
       " 'max_depth': 8,\n",
       " 'learning_rate': 0.4,\n",
       " 'gamma': 0.6,\n",
       " 'colsample_bytree': 0.4}"
      ]
     },
     "execution_count": 1397,
     "metadata": {},
     "output_type": "execute_result"
    }
   ],
   "source": [
    "random_search.best_params_"
   ]
  },
  {
   "cell_type": "code",
   "execution_count": 1398,
   "metadata": {},
   "outputs": [],
   "source": [
    "\n",
    "model = XGBRegressor(base_score=0.5, booster='gbtree', colsample_bylevel=1,\n",
    "             colsample_bynode=1, colsample_bytree=0.7, gamma=0.0, gpu_id=-1,\n",
    "             importance_type='gain', interaction_constraints='',\n",
    "             learning_rate=0.25, max_delta_step=0, max_depth=3,\n",
    "             min_child_weight=1,  monotone_constraints='()',\n",
    "             n_estimators=2600, n_jobs=0, num_parallel_tree=1,\n",
    "             objective='reg:squarederror', random_state=0, reg_alpha=0,\n",
    "             reg_lambda=1, scale_pos_weight=1, subsample=1, tree_method='exact',\n",
    "             validate_parameters=1, verbosity=None\n",
    ")"
   ]
  },
  {
   "cell_type": "code",
   "execution_count": 1399,
   "metadata": {},
   "outputs": [
    {
     "data": {
      "text/plain": [
       "XGBRegressor(base_score=0.5, booster='gbtree', colsample_bylevel=1,\n",
       "             colsample_bynode=1, colsample_bytree=0.7, gamma=0.0, gpu_id=-1,\n",
       "             importance_type='gain', interaction_constraints='',\n",
       "             learning_rate=0.25, max_delta_step=0, max_depth=3,\n",
       "             min_child_weight=1, missing=nan, monotone_constraints='()',\n",
       "             n_estimators=2600, n_jobs=0, num_parallel_tree=1,\n",
       "             objective='reg:squarederror', random_state=0, reg_alpha=0,\n",
       "             reg_lambda=1, scale_pos_weight=1, subsample=1, tree_method='exact',\n",
       "             validate_parameters=1, verbosity=None)"
      ]
     },
     "execution_count": 1399,
     "metadata": {},
     "output_type": "execute_result"
    }
   ],
   "source": [
    "model.fit(x_train, y_train)"
   ]
  },
  {
   "cell_type": "code",
   "execution_count": 1400,
   "metadata": {},
   "outputs": [
    {
     "name": "stdout",
     "output_type": "stream",
     "text": [
      "      variable1  variable2  B  C  D\n",
      "2230        890         77  1  0  0\n",
      "668         884         48  0  0  1\n",
      "3616        536         32  0  0  1\n",
      "2363        477         59  0  0  1\n",
      "142         173         96  0  1  0\n",
      "...         ...        ... .. .. ..\n",
      "1118         65         27  1  0  0\n",
      "3572        710         17  0  1  0\n",
      "2482        487         97  0  0  1\n",
      "643         405         60  0  1  0\n",
      "299         567         92  0  0  0\n",
      "\n",
      "[800 rows x 5 columns]\n",
      "[63762.727  63424.38   38638.133  36394.867  18026.209  45099.516\n",
      " 27117.863  37403.387  52361.156  11810.887  51897.207   7642.814\n",
      " 41492.254  61661.516  30997.277  61338.6    42558.68   56489.36\n",
      " 40473.336   7579.578  30893.635  64083.6    22931.13   22544.842\n",
      " 59650.645  37380.844  67013.79   43806.508  30972.22    2351.4792\n",
      " 61113.44    6307.9263 26056.045   2190.3562  3320.958  59946.855\n",
      " 39335.504  69990.766  37837.727  19149.166  30835.848   8919.544\n",
      " 41419.773  43162.113  14200.767   9376.915  31124.896  40149.387\n",
      " 42009.75   20108.92   28240.725  10515.692  32152.736  46389.656\n",
      "  7046.9404 59874.973  54134.547  41809.484  45721.117  14371.37\n",
      " 58652.316  51537.92    8462.783  67433.016  27476.227  49656.477\n",
      " 35590.137  58597.766  29401.97   33081.004  10970.506   2427.8838\n",
      " 34714.062  52672.883   2876.29   48352.72   14337.56   49793.457\n",
      " 25447.822   6778.1055 42172.723  14531.864  48161.742  46664.855\n",
      " 33261.086  67004.984  59402.965  51939.31    9868.455  41693.637\n",
      " 27439.69   19795.793  26716.213  60572.75   43266.402  22153.562\n",
      " 14009.106  31194.113  27995.39   26040.17   52289.203  23479.633\n",
      " 40362.34   46611.4    68599.88   37246.29   20405.06   31287.18\n",
      " 38323.19   51405.69   53501.76   67480.34   16056.929  55710.42\n",
      " 57046.812  46302.77   37703.38   33169.652  54095.984  30522.572\n",
      " 11557.027   4491.128   5809.723  37118.105  35387.258  12404.0625\n",
      " 28555.76   23276.38    1622.7799 21922.295  38302.87    8435.726\n",
      " 40667.37   36941.55   62109.164  17410.209   7591.0376 19423.809\n",
      " 62891.207  45426.65   44584.438  61653.27   60906.785  55603.71\n",
      " 23062.969  33493.562  37704.387   7979.306  48327.242  39593.098\n",
      " 21414.654  57561.02   16410.414  29150.734  18610.281   8964.852\n",
      "  4958.225   8585.948  33352.19   35462.1    64052.938   1903.4114\n",
      " 31617.42   15950.604  43913.01   24007.201  64486.812  17692.67\n",
      " 52991.04   59835.445  34258.91   16896.715  28343.863  38061.27\n",
      " 63926.125  26405.322  35592.58   43018.098   6802.7505 60168.48\n",
      " 48693.797  12018.928  10015.968  65799.34   17866.682  47786.85\n",
      " 58138.848  72474.73   60100.344  47679.855  23536.863  14184.396\n",
      " 23844.463  26850.73   57578.496   9328.65   38638.348  13943.945\n",
      " 53159.42   38151.406  17716.982  34011.062  41496.48   51725.086\n",
      " 47757.906  59483.48   27308.826  55681.316  25602.912  67494.51\n",
      " 14652.886   8196.359  68807.45   54413.62   12979.131  30216.469\n",
      " 35347.918   6021.845  40637.46   35539.16   51225.586  28027.533\n",
      " 41075.637  46512.285  51761.24   48337.54   32323.295  29644.896\n",
      " 46466.85   24579.191  50532.207   1148.9113 65203.76   42625.566\n",
      " 68617.83   62112.344  25813.262  20485.45   37299.66   16795.078\n",
      " 62785.652  10433.848  38297.668  24687.83    4560.3623 12158.289\n",
      " 34035.715  26033.867  47512.137  56059.34   40148.734  63442.043\n",
      " 10846.88    2686.2012 64260.906  13951.942  36103.535  31035.09\n",
      " 21889.729  16682.625  57480.605  17563.697  32309.955  19806.135\n",
      " 48437.39   24703.598  16165.337  49795.9    24664.553   5181.9873\n",
      " 15379.596  14647.11   24472.13   47579.332  61132.492  35165.586\n",
      " 55676.777  22928.994  28587.496  25760.318  54991.027   6997.2603\n",
      "  7639.544  24961.922  40848.535  32821.543  65447.445  65821.9\n",
      " 28760.605  12500.661  62102.59   68800.625  52052.34   10734.963\n",
      " 57137.207   5751.6    45962.832  25960.588  55636.906  44666.516\n",
      " 67221.945  23006.293  13360.343  68066.016  10952.291  63591.97\n",
      " 67482.34   64417.098  62779.305  49823.324  57054.047  59661.008\n",
      "  9161.035  36973.254  61166.434  20655.92   16259.501  62367.12\n",
      " 11667.984  40560.08   48641.72    5105.429  67780.13   29632.705\n",
      " 42099.58    5791.9175 24716.215  25613.727  62717.363  48838.05\n",
      " 47915.812  18083.96   20683.674  57856.04   28235.67   20346.277\n",
      " 14189.509  17449.191  25865.23   63117.72    6697.2944 12949.246\n",
      " 57564.17   36041.098  52035.043  38163.9    24950.066  63012.664\n",
      " 27070.607  34141.496  66112.29   14695.393  40905.74   59149.543\n",
      " 36210.016  69478.84   29938.129   2614.6404 63419.277  62800.055\n",
      " 66051.91   25762.84   51849.72   38525.18   54354.312  20841.111\n",
      " 46777.62   20559.914  47354.3    56189.586  68285.555  15709.874\n",
      " 67457.01   53761.64   54035.883  21964.102  28343.613  16026.979\n",
      " 28253.396  39767.1    53933.723  21018.824   3362.9226 45445.492\n",
      " 59462.746  25000.29    8687.956  61702.09   59557.035   7998.8335\n",
      "  9426.896  10934.81   44823.93   34105.68   35082.258  32298.633\n",
      " 15194.198  41849.98   30083.941  59044.55   46366.812  62599.066\n",
      " 25604.822  28470.965  53618.17   35830.45   55967.86   11432.771\n",
      " 41787.312   7563.424  53857.918  18830.572  15361.428  29973.68\n",
      " 69802.58   37525.68   15458.743  69157.8    47743.254  63704.7\n",
      " 53054.348  14871.037  19639.791  71592.516  59329.67   50302.387\n",
      "  8957.397  55494.438  31423.453  37247.926  25824.316  40375.527\n",
      " 40184.027  49205.152  65456.06   45593.69   25470.986  32883.715\n",
      " 36763.926  36317.84   37828.848  45583.78   15359.301  51953.71\n",
      " 56218.477  54240.71   63522.938  31017.277  37600.87   47848.465\n",
      " 14165.367  18807.83   26591.059  65581.016   4425.5728 50789.6\n",
      "  5731.9634 65700.42   63749.824  19222.26   58985.07   16973.322\n",
      " 17626.963  59312.55    4987.5264 41843.445   7763.949  61332.11\n",
      " 56618.64   31879.807  13821.978  31491.055  15990.538  23387.92\n",
      " 61285.21    7658.435  24465.727  21359.93   61548.164  12264.796\n",
      " 60926.895  58388.375  48937.88   42891.125  31117.14   12478.904\n",
      " 44533.92   44532.734  49920.727  57448.16   15052.026  13898.717\n",
      "  7586.5977 28012.475  27805.463  28112.473  49874.906  69491.195\n",
      " 55866.504   6401.2427 34805.055  47671.062  49996.844  24211.037\n",
      " 64414.734  21702.836  16365.145  62120.34   35357.996  45371.71\n",
      " 36093.586  46442.004  46874.67   21479.64   21563.29   18660.023\n",
      " 39053.86   68501.85   26611.973  48529.316  44263.98   33816.75\n",
      " 46131.895  59808.875  55994.195   3250.471  35952.207  57177.31\n",
      " 26940.375  32358.262  14837.702  39824.83   18457.973  17768.428\n",
      " 54129.918  48369.492  50274.574  22478.127  51074.37   25802.725\n",
      " 54306.844   4731.2036  7932.12   11960.738  11852.005  19925.512\n",
      " 41534.484  27362.701  52824.36    8834.015  29066.611   4088.0173\n",
      " 29256.51   57897.098  17609.652  42985.363  11121.882  15700.668\n",
      " 35435.305  53005.383  60296.195  14027.975  60120.8    19108.105\n",
      " 11924.698  53899.406  10360.752  62073.023  35609.89   55525.71\n",
      " 30973.256   4677.7314 14365.241  66229.836  56727.066  49420.14\n",
      " 45847.844  60873.91   19269.84   63347.438  17232.184  33615.84\n",
      " 36180.863  36935.656  68569.625  38443.3    57301.875  31833.732\n",
      " 50173.008   6196.673  47411.766  26984.383  43987.637  41433.508\n",
      " 61488.684  58282.492  52394.348  42998.883  39795.31   36930.816\n",
      " 69876.97   56049.375  27207.      7795.0654 14167.101  34879.723\n",
      " 31969.85   29622.127  11489.848  45992.273  17834.045  70579.516\n",
      " 61437.562  38614.816  42067.754  71686.49   28701.4    45814.37\n",
      " 66029.76   60427.547  15858.044   9708.631  11298.735  48686.94\n",
      "  9772.653  56102.098   1937.5026  2332.7366 54508.48   53463.93\n",
      " 49731.31   16340.714  51250.43   44647.85   26546.521  40961.266\n",
      " 31637.158  14277.551  27009.926  65089.83   27007.828  62391.688\n",
      " 34753.53   41392.06   63943.99   55600.027  66660.79   22487.855\n",
      " 64793.508  21890.213  41281.516  59235.69    8228.833  48460.64\n",
      " 48190.117   7622.3657 30269.479  12366.475  58826.055  71015.42\n",
      " 69236.516  44042.227  49746.773  27316.512  31562.385  18875.84\n",
      " 69827.67    9593.956  30972.062  26543.482  23402.506  50723.574\n",
      " 68061.7    16711.285  47608.418  49537.113  30566.314  39942.844\n",
      " 45685.227  56427.2     1342.1354 45477.39   39644.664  48029.934\n",
      " 51237.742  54674.426  64051.785  57091.258  24449.703  33322.76\n",
      " 47372.324  58244.42   50002.652  68204.49   31726.953  41672.938\n",
      " 64189.84   58006.934  16990.836  34749.773  35083.44   48070.54\n",
      " 46119.082  48325.49   59092.87   50940.26   61568.18   67688.734\n",
      " 62114.543  65193.637  15869.09   60039.3     2173.7188  7741.139\n",
      "  5167.746  18565.375  28323.012   9808.36   29197.855  31306.11\n",
      " 21147.191  51093.645  40331.59   14199.419  19461.18   63919.203\n",
      " 33625.816  11429.567  16189.703  32680.646  35191.348  60921.27\n",
      " 13521.107  41812.098  32866.125  37390.945  25288.676  34061.977\n",
      " 24134.354  46311.01   11722.846  65435.31   18307.26   47318.992\n",
      " 37519.008  32840.355  64204.926  53926.344  41604.29   49420.96\n",
      " 42034.836  66331.95   20120.205   6687.5356 52804.848  57364.16\n",
      " 62435.926  11109.855  28856.502  60997.14    8269.447  20949.426\n",
      " 58332.457  15514.022   6668.213   8452.045  25184.867   8149.0605\n",
      " 37721.37   55202.84   24867.51   31965.102  22612.48   36054.477\n",
      " 28409.928  43514.11    6509.191  15859.425  50003.145  43389.973\n",
      " 37446.24   69526.17   69406.27   11987.286  63897.113  47679.855\n",
      " 65553.234  35165.652  19598.625  12101.596  51904.355   4726.3423\n",
      "  5705.5664 10860.061  26944.623   6062.0884 48663.258  39657.918\n",
      " 31137.357  42958.297 ]\n"
     ]
    }
   ],
   "source": [
    "from sklearn.metrics import mean_absolute_error\n",
    "predictions = model.predict(x_test)\n",
    "print(x_test)\n",
    "print(predictions)"
   ]
  },
  {
   "cell_type": "code",
   "execution_count": 1401,
   "metadata": {},
   "outputs": [
    {
     "name": "stdout",
     "output_type": "stream",
     "text": [
      "the mean absolute error is  55.47534942626953\n"
     ]
    }
   ],
   "source": [
    "mae = mean_absolute_error(predictions, y_test)\n",
    "print(\"the mean absolute error is \", mae)"
   ]
  },
  {
   "cell_type": "code",
   "execution_count": 1402,
   "metadata": {},
   "outputs": [
    {
     "name": "stdout",
     "output_type": "stream",
     "text": [
      "   variable1  variable2 variable3\n",
      "0        552         96         A\n",
      "1        552         96         B\n",
      "2        552         96         C\n",
      "3        552         96         D\n"
     ]
    }
   ],
   "source": [
    "test=pd.read_csv(\"file.csv\")\n",
    "test = test.iloc[:,1:4]\n",
    "print(test)"
   ]
  },
  {
   "cell_type": "code",
   "execution_count": 1403,
   "metadata": {},
   "outputs": [
    {
     "name": "stdout",
     "output_type": "stream",
     "text": [
      "   B  C  D\n",
      "0  0  0  0\n",
      "1  1  0  0\n",
      "2  0  1  0\n",
      "3  0  0  1\n"
     ]
    }
   ],
   "source": [
    "variable2 =pd.get_dummies(test['variable3'],drop_first=True)\n",
    "\n",
    "print(variable2)"
   ]
  },
  {
   "cell_type": "code",
   "execution_count": 1404,
   "metadata": {},
   "outputs": [
    {
     "name": "stdout",
     "output_type": "stream",
     "text": [
      "   variable1  variable2  B  C  D\n",
      "0        552         96  0  0  0\n",
      "1        552         96  1  0  0\n",
      "2        552         96  0  1  0\n",
      "3        552         96  0  0  1\n"
     ]
    }
   ],
   "source": [
    "test=test.drop(['variable3'],axis=1)\n",
    "test=pd.concat([test,variable2],axis=1)\n",
    "print(test)"
   ]
  },
  {
   "cell_type": "code",
   "execution_count": 1405,
   "metadata": {},
   "outputs": [
    {
     "name": "stdout",
     "output_type": "stream",
     "text": [
      "[42181.348 42792.086 43402.5   44002.258]\n"
     ]
    }
   ],
   "source": [
    "prediction2 = model.predict(test)\n",
    "print(prediction2)"
   ]
  },
  {
   "cell_type": "code",
   "execution_count": 1406,
   "metadata": {},
   "outputs": [],
   "source": [
    "import pickle"
   ]
  },
  {
   "cell_type": "code",
   "execution_count": 1407,
   "metadata": {},
   "outputs": [],
   "source": [
    "with open('model_pickle', 'wb') as f:\n",
    "    pickle.dump(model, f)"
   ]
  },
  {
   "cell_type": "code",
   "execution_count": 1408,
   "metadata": {},
   "outputs": [],
   "source": [
    "with open('model_pickle', 'rb') as f:\n",
    "    mp = pickle.load(f)"
   ]
  },
  {
   "cell_type": "code",
   "execution_count": 1409,
   "metadata": {},
   "outputs": [
    {
     "name": "stdout",
     "output_type": "stream",
     "text": [
      "[42181.348 42792.086 43402.5   44002.258]\n"
     ]
    }
   ],
   "source": [
    "print(mp.predict(test))"
   ]
  },
  {
   "cell_type": "code",
   "execution_count": null,
   "metadata": {},
   "outputs": [],
   "source": []
  }
 ],
 "metadata": {
  "kernelspec": {
   "display_name": "Python 3",
   "language": "python",
   "name": "python3"
  },
  "language_info": {
   "codemirror_mode": {
    "name": "ipython",
    "version": 3
   },
   "file_extension": ".py",
   "mimetype": "text/x-python",
   "name": "python",
   "nbconvert_exporter": "python",
   "pygments_lexer": "ipython3",
   "version": "3.7.6"
  }
 },
 "nbformat": 4,
 "nbformat_minor": 4
}
