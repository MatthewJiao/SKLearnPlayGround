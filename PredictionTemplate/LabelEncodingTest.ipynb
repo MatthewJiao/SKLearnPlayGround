{
 "cells": [
  {
   "cell_type": "code",
   "execution_count": 175,
   "metadata": {},
   "outputs": [],
   "source": [
    "import pandas as pd"
   ]
  },
  {
   "cell_type": "code",
   "execution_count": 176,
   "metadata": {},
   "outputs": [],
   "source": [
    "data=pd.read_csv('dataset.csv')"
   ]
  },
  {
   "cell_type": "code",
   "execution_count": 177,
   "metadata": {},
   "outputs": [
    {
     "data": {
      "text/html": [
       "<div>\n",
       "<style scoped>\n",
       "    .dataframe tbody tr th:only-of-type {\n",
       "        vertical-align: middle;\n",
       "    }\n",
       "\n",
       "    .dataframe tbody tr th {\n",
       "        vertical-align: top;\n",
       "    }\n",
       "\n",
       "    .dataframe thead th {\n",
       "        text-align: right;\n",
       "    }\n",
       "</style>\n",
       "<table border=\"1\" class=\"dataframe\">\n",
       "  <thead>\n",
       "    <tr style=\"text-align: right;\">\n",
       "      <th></th>\n",
       "      <th>RowNumber</th>\n",
       "      <th>variable1</th>\n",
       "      <th>variable2</th>\n",
       "      <th>variable3</th>\n",
       "      <th>result</th>\n",
       "    </tr>\n",
       "  </thead>\n",
       "  <tbody>\n",
       "    <tr>\n",
       "      <th>0</th>\n",
       "      <td>1</td>\n",
       "      <td>435</td>\n",
       "      <td>78</td>\n",
       "      <td>D</td>\n",
       "      <td>34884</td>\n",
       "    </tr>\n",
       "    <tr>\n",
       "      <th>1</th>\n",
       "      <td>2</td>\n",
       "      <td>285</td>\n",
       "      <td>94</td>\n",
       "      <td>C</td>\n",
       "      <td>25393</td>\n",
       "    </tr>\n",
       "    <tr>\n",
       "      <th>2</th>\n",
       "      <td>3</td>\n",
       "      <td>162</td>\n",
       "      <td>62</td>\n",
       "      <td>A</td>\n",
       "      <td>14560</td>\n",
       "    </tr>\n",
       "    <tr>\n",
       "      <th>3</th>\n",
       "      <td>4</td>\n",
       "      <td>648</td>\n",
       "      <td>47</td>\n",
       "      <td>D</td>\n",
       "      <td>47260</td>\n",
       "    </tr>\n",
       "    <tr>\n",
       "      <th>4</th>\n",
       "      <td>5</td>\n",
       "      <td>11</td>\n",
       "      <td>71</td>\n",
       "      <td>C</td>\n",
       "      <td>5494</td>\n",
       "    </tr>\n",
       "  </tbody>\n",
       "</table>\n",
       "</div>"
      ],
      "text/plain": [
       "   RowNumber  variable1  variable2 variable3  result\n",
       "0          1        435         78         D   34884\n",
       "1          2        285         94         C   25393\n",
       "2          3        162         62         A   14560\n",
       "3          4        648         47         D   47260\n",
       "4          5         11         71         C    5494"
      ]
     },
     "execution_count": 177,
     "metadata": {},
     "output_type": "execute_result"
    }
   ],
   "source": [
    "data.head()"
   ]
  },
  {
   "cell_type": "code",
   "execution_count": 178,
   "metadata": {},
   "outputs": [],
   "source": [
    "#check how balanced/random the data is"
   ]
  },
  {
   "cell_type": "code",
   "execution_count": 179,
   "metadata": {},
   "outputs": [
    {
     "name": "stdout",
     "output_type": "stream",
     "text": [
      "      variable1  variable2 variable3\n",
      "0           435         78         D\n",
      "1           285         94         C\n",
      "2           162         62         A\n",
      "3           648         47         D\n",
      "4            11         71         C\n",
      "...         ...        ...       ...\n",
      "3995         46         27         D\n",
      "3996        171         37         B\n",
      "3997        801         22         C\n",
      "3998        793         78         B\n",
      "3999        913         61         D\n",
      "\n",
      "[4000 rows x 3 columns]\n",
      "      B  C  D\n",
      "0     0  0  1\n",
      "1     0  1  0\n",
      "2     0  0  0\n",
      "3     0  0  1\n",
      "4     0  1  0\n",
      "...  .. .. ..\n",
      "3995  0  0  1\n",
      "3996  1  0  0\n",
      "3997  0  1  0\n",
      "3998  1  0  0\n",
      "3999  0  0  1\n",
      "\n",
      "[4000 rows x 3 columns]\n"
     ]
    },
    {
     "data": {
      "text/html": [
       "<div>\n",
       "<style scoped>\n",
       "    .dataframe tbody tr th:only-of-type {\n",
       "        vertical-align: middle;\n",
       "    }\n",
       "\n",
       "    .dataframe tbody tr th {\n",
       "        vertical-align: top;\n",
       "    }\n",
       "\n",
       "    .dataframe thead th {\n",
       "        text-align: right;\n",
       "    }\n",
       "</style>\n",
       "<table border=\"1\" class=\"dataframe\">\n",
       "  <thead>\n",
       "    <tr style=\"text-align: right;\">\n",
       "      <th></th>\n",
       "      <th>B</th>\n",
       "      <th>C</th>\n",
       "      <th>D</th>\n",
       "    </tr>\n",
       "  </thead>\n",
       "  <tbody>\n",
       "    <tr>\n",
       "      <th>0</th>\n",
       "      <td>0</td>\n",
       "      <td>0</td>\n",
       "      <td>1</td>\n",
       "    </tr>\n",
       "    <tr>\n",
       "      <th>1</th>\n",
       "      <td>0</td>\n",
       "      <td>1</td>\n",
       "      <td>0</td>\n",
       "    </tr>\n",
       "    <tr>\n",
       "      <th>2</th>\n",
       "      <td>0</td>\n",
       "      <td>0</td>\n",
       "      <td>0</td>\n",
       "    </tr>\n",
       "    <tr>\n",
       "      <th>3</th>\n",
       "      <td>0</td>\n",
       "      <td>0</td>\n",
       "      <td>1</td>\n",
       "    </tr>\n",
       "    <tr>\n",
       "      <th>4</th>\n",
       "      <td>0</td>\n",
       "      <td>1</td>\n",
       "      <td>0</td>\n",
       "    </tr>\n",
       "  </tbody>\n",
       "</table>\n",
       "</div>"
      ],
      "text/plain": [
       "   B  C  D\n",
       "0  0  0  1\n",
       "1  0  1  0\n",
       "2  0  0  0\n",
       "3  0  0  1\n",
       "4  0  1  0"
      ]
     },
     "execution_count": 179,
     "metadata": {},
     "output_type": "execute_result"
    }
   ],
   "source": [
    "x = data.iloc[:,1:4]\n",
    "y = data.iloc[:,4]\n",
    "print(x)\n",
    "#variable =pd.get_dummies(x['variable3'],drop_first=True)\n",
    "print(variable)\n",
    "variable.head()"
   ]
  },
  {
   "cell_type": "code",
   "execution_count": 180,
   "metadata": {},
   "outputs": [
    {
     "data": {
      "text/html": [
       "<div>\n",
       "<style scoped>\n",
       "    .dataframe tbody tr th:only-of-type {\n",
       "        vertical-align: middle;\n",
       "    }\n",
       "\n",
       "    .dataframe tbody tr th {\n",
       "        vertical-align: top;\n",
       "    }\n",
       "\n",
       "    .dataframe thead th {\n",
       "        text-align: right;\n",
       "    }\n",
       "</style>\n",
       "<table border=\"1\" class=\"dataframe\">\n",
       "  <thead>\n",
       "    <tr style=\"text-align: right;\">\n",
       "      <th></th>\n",
       "      <th>variable1</th>\n",
       "      <th>variable2</th>\n",
       "      <th>variable3</th>\n",
       "    </tr>\n",
       "  </thead>\n",
       "  <tbody>\n",
       "    <tr>\n",
       "      <th>0</th>\n",
       "      <td>435</td>\n",
       "      <td>78</td>\n",
       "      <td>D</td>\n",
       "    </tr>\n",
       "    <tr>\n",
       "      <th>1</th>\n",
       "      <td>285</td>\n",
       "      <td>94</td>\n",
       "      <td>C</td>\n",
       "    </tr>\n",
       "    <tr>\n",
       "      <th>2</th>\n",
       "      <td>162</td>\n",
       "      <td>62</td>\n",
       "      <td>A</td>\n",
       "    </tr>\n",
       "    <tr>\n",
       "      <th>3</th>\n",
       "      <td>648</td>\n",
       "      <td>47</td>\n",
       "      <td>D</td>\n",
       "    </tr>\n",
       "    <tr>\n",
       "      <th>4</th>\n",
       "      <td>11</td>\n",
       "      <td>71</td>\n",
       "      <td>C</td>\n",
       "    </tr>\n",
       "  </tbody>\n",
       "</table>\n",
       "</div>"
      ],
      "text/plain": [
       "   variable1  variable2 variable3\n",
       "0        435         78         D\n",
       "1        285         94         C\n",
       "2        162         62         A\n",
       "3        648         47         D\n",
       "4         11         71         C"
      ]
     },
     "execution_count": 180,
     "metadata": {},
     "output_type": "execute_result"
    }
   ],
   "source": [
    "#x=x.drop(['variable3'],axis=1)\n",
    "x.head()"
   ]
  },
  {
   "cell_type": "code",
   "execution_count": 181,
   "metadata": {},
   "outputs": [
    {
     "data": {
      "text/html": [
       "<div>\n",
       "<style scoped>\n",
       "    .dataframe tbody tr th:only-of-type {\n",
       "        vertical-align: middle;\n",
       "    }\n",
       "\n",
       "    .dataframe tbody tr th {\n",
       "        vertical-align: top;\n",
       "    }\n",
       "\n",
       "    .dataframe thead th {\n",
       "        text-align: right;\n",
       "    }\n",
       "</style>\n",
       "<table border=\"1\" class=\"dataframe\">\n",
       "  <thead>\n",
       "    <tr style=\"text-align: right;\">\n",
       "      <th></th>\n",
       "      <th>variable1</th>\n",
       "      <th>variable2</th>\n",
       "      <th>variable3</th>\n",
       "    </tr>\n",
       "  </thead>\n",
       "  <tbody>\n",
       "    <tr>\n",
       "      <th>0</th>\n",
       "      <td>435</td>\n",
       "      <td>78</td>\n",
       "      <td>4</td>\n",
       "    </tr>\n",
       "    <tr>\n",
       "      <th>1</th>\n",
       "      <td>285</td>\n",
       "      <td>94</td>\n",
       "      <td>3</td>\n",
       "    </tr>\n",
       "    <tr>\n",
       "      <th>2</th>\n",
       "      <td>162</td>\n",
       "      <td>62</td>\n",
       "      <td>1</td>\n",
       "    </tr>\n",
       "    <tr>\n",
       "      <th>3</th>\n",
       "      <td>648</td>\n",
       "      <td>47</td>\n",
       "      <td>4</td>\n",
       "    </tr>\n",
       "    <tr>\n",
       "      <th>4</th>\n",
       "      <td>11</td>\n",
       "      <td>71</td>\n",
       "      <td>3</td>\n",
       "    </tr>\n",
       "  </tbody>\n",
       "</table>\n",
       "</div>"
      ],
      "text/plain": [
       "   variable1  variable2  variable3\n",
       "0        435         78          4\n",
       "1        285         94          3\n",
       "2        162         62          1\n",
       "3        648         47          4\n",
       "4         11         71          3"
      ]
     },
     "execution_count": 181,
     "metadata": {},
     "output_type": "execute_result"
    }
   ],
   "source": [
    "title_mapping = {\"A\": 1, \"B\": 2, \"C\": 3, \"D\": 4}\n",
    "X = [x]\n",
    "for dataset in X:\n",
    "    dataset['variable3'] = dataset['variable3'].map(title_mapping)\n",
    "\n",
    "x.head()"
   ]
  },
  {
   "cell_type": "code",
   "execution_count": 182,
   "metadata": {},
   "outputs": [
    {
     "data": {
      "image/png": "[encoded data removed]",
      "text/plain": [
       "<Figure size 1440x1440 with 2 Axes>"
      ]
     },
     "metadata": {
      "needs_background": "light"
     },
     "output_type": "display_data"
    }
   ],
   "source": [
    "X = pd.concat([x,y], axis=1)\n",
    "## Correlation\n",
    "import seaborn as sns\n",
    "import matplotlib.pyplot as plt\n",
    "\n",
    "plt.figure(figsize=(20,20))\n",
    "g=sns.heatmap(X.corr(),annot=True,cmap=\"RdYlGn\")"
   ]
  },
  {
   "cell_type": "code",
   "execution_count": 183,
   "metadata": {},
   "outputs": [
    {
     "name": "stdout",
     "output_type": "stream",
     "text": [
      "      variable1  variable2  variable3\n",
      "2230        828         40          1\n",
      "668          73         10          3\n",
      "3616        762         99          3\n",
      "2363        206         75          4\n",
      "142         862         15          2\n",
      "...         ...        ...        ...\n",
      "1118        805         98          1\n",
      "3572        480         55          1\n",
      "2482        889         76          3\n",
      "643         961         85          2\n",
      "299         769         94          1\n",
      "\n",
      "[800 rows x 3 columns]\n"
     ]
    }
   ],
   "source": [
    "from sklearn.model_selection import train_test_split\n",
    "x_train, x_test, y_train , y_test = train_test_split(x,y, random_state = 0, test_size = 0.2)\n",
    "print(x_test)"
   ]
  },
  {
   "cell_type": "code",
   "execution_count": 184,
   "metadata": {},
   "outputs": [],
   "source": [
    "#from sklearn.preprocessing import StandardScaler\n",
    "#sc = StandardScaler()\n",
    "#x_train = sc.fit_transform(x_train)\n",
    "#x_test = sc.transform(x_test)\n",
    "#print(x_train)"
   ]
  },
  {
   "cell_type": "code",
   "execution_count": 185,
   "metadata": {},
   "outputs": [],
   "source": [
    "from xgboost import XGBRegressor\n",
    "\n",
    "params={\n",
    " \"n_estimators\"     : [10,100,200,500,800,1000,1200,1500,1700,2000,2200,2400,2600,2800,3000],\n",
    " \"learning_rate\"    : [0.05, 0.10, 0.15, 0.20, 0.25, 0.30, 0.35, 0.40 ] ,\n",
    " \"max_depth\"        : [ 3, 4, 5, 6, 8, 10, 12, 15],\n",
    " \"min_child_weight\" : [ 1, 3, 5, 7, 8,9,10 ],\n",
    " \"gamma\"            : [ 0.0, 0.1, 0.2 , 0.3, 0.4, 0.5,0.6 ],\n",
    " \"colsample_bytree\" : [ 0.3, 0.4, 0.5 , 0.7 ]\n",
    "    \n",
    "}\n",
    "model = XGBRegressor()"
   ]
  },
  {
   "cell_type": "code",
   "execution_count": 186,
   "metadata": {},
   "outputs": [],
   "source": [
    "def timer(start_time=None):\n",
    "    if not start_time:\n",
    "        start_time = datetime.now()\n",
    "        return start_time\n",
    "    elif start_time:\n",
    "        thour, temp_sec = divmod((datetime.now() - start_time).total_seconds(), 3600)\n",
    "        tmin, tsec = divmod(temp_sec, 60)\n",
    "        print('\\n Time taken: %i hours %i minutes and %s seconds.' % (thour, tmin, round(tsec, 2)))"
   ]
  },
  {
   "cell_type": "code",
   "execution_count": 187,
   "metadata": {},
   "outputs": [],
   "source": [
    "from sklearn.model_selection import RandomizedSearchCV, GridSearchCV\n",
    "random_search=RandomizedSearchCV(model,param_distributions=params,n_iter=5,n_jobs=-1,cv=5,verbose=3)\n"
   ]
  },
  {
   "cell_type": "code",
   "execution_count": 188,
   "metadata": {},
   "outputs": [
    {
     "name": "stdout",
     "output_type": "stream",
     "text": [
      "Fitting 5 folds for each of 5 candidates, totalling 25 fits\n"
     ]
    },
    {
     "name": "stderr",
     "output_type": "stream",
     "text": [
      "[Parallel(n_jobs=-1)]: Using backend LokyBackend with 8 concurrent workers.\n",
      "[Parallel(n_jobs=-1)]: Done  19 out of  25 | elapsed:    7.2s remaining:    2.2s\n",
      "[Parallel(n_jobs=-1)]: Done  25 out of  25 | elapsed:    8.2s finished\n"
     ]
    },
    {
     "name": "stdout",
     "output_type": "stream",
     "text": [
      "\n",
      " Time taken: 0 hours 0 minutes and 12.87 seconds.\n"
     ]
    }
   ],
   "source": [
    "from datetime import datetime\n",
    "start_time = timer(None)\n",
    "random_search.fit(x_train,y_train)\n",
    "timer(start_time)"
   ]
  },
  {
   "cell_type": "code",
   "execution_count": 189,
   "metadata": {},
   "outputs": [
    {
     "data": {
      "text/plain": [
       "XGBRegressor(base_score=0.5, booster='gbtree', colsample_bylevel=1,\n",
       "             colsample_bynode=1, colsample_bytree=0.7, gamma=0.3, gpu_id=-1,\n",
       "             importance_type='gain', interaction_constraints='',\n",
       "             learning_rate=0.35, max_delta_step=0, max_depth=10,\n",
       "             min_child_weight=5, missing=nan, monotone_constraints='()',\n",
       "             n_estimators=2400, n_jobs=0, num_parallel_tree=1,\n",
       "             objective='reg:squarederror', random_state=0, reg_alpha=0,\n",
       "             reg_lambda=1, scale_pos_weight=1, subsample=1, tree_method='exact',\n",
       "             validate_parameters=1, verbosity=None)"
      ]
     },
     "execution_count": 189,
     "metadata": {},
     "output_type": "execute_result"
    }
   ],
   "source": [
    "random_search.best_estimator_"
   ]
  },
  {
   "cell_type": "code",
   "execution_count": 190,
   "metadata": {},
   "outputs": [
    {
     "data": {
      "text/plain": [
       "{'n_estimators': 2400,\n",
       " 'min_child_weight': 5,\n",
       " 'max_depth': 10,\n",
       " 'learning_rate': 0.35,\n",
       " 'gamma': 0.3,\n",
       " 'colsample_bytree': 0.7}"
      ]
     },
     "execution_count": 190,
     "metadata": {},
     "output_type": "execute_result"
    }
   ],
   "source": [
    "random_search.best_params_"
   ]
  },
  {
   "cell_type": "code",
   "execution_count": null,
   "metadata": {},
   "outputs": [],
   "source": []
  },
  {
   "cell_type": "code",
   "execution_count": 191,
   "metadata": {},
   "outputs": [],
   "source": [
    "\n",
    "model = XGBRegressor(base_score=0.5, booster='gbtree', colsample_bylevel=1,\n",
    "             colsample_bynode=1, colsample_bytree=0.3, gamma=0.1, gpu_id=-1,\n",
    "             importance_type='gain', interaction_constraints='',\n",
    "             learning_rate=0.25, max_delta_step=0, max_depth=3,\n",
    "             min_child_weight=5, monotone_constraints='()',\n",
    "             n_estimators=800, n_jobs=0, num_parallel_tree=1,\n",
    "             objective='reg:squarederror', random_state=0, reg_alpha=0,\n",
    "             reg_lambda=1, scale_pos_weight=1, subsample=1, tree_method='exact',\n",
    "             validate_parameters=1, verbosity=None\n",
    ")"
   ]
  },
  {
   "cell_type": "code",
   "execution_count": null,
   "metadata": {},
   "outputs": [],
   "source": []
  },
  {
   "cell_type": "code",
   "execution_count": 192,
   "metadata": {},
   "outputs": [
    {
     "name": "stdout",
     "output_type": "stream",
     "text": [
      "\n",
      " Time taken: 0 hours 0 minutes and 0.52 seconds.\n"
     ]
    }
   ],
   "source": [
    "from datetime import datetime\n",
    "start_time = timer(None)\n",
    "model.fit(x_train, y_train)\n",
    "timer(start_time)"
   ]
  },
  {
   "cell_type": "code",
   "execution_count": 193,
   "metadata": {},
   "outputs": [
    {
     "name": "stdout",
     "output_type": "stream",
     "text": [
      "      variable1  variable2  variable3\n",
      "2230        828         40          1\n",
      "668          73         10          3\n",
      "3616        762         99          3\n",
      "2363        206         75          4\n",
      "142         862         15          2\n",
      "...         ...        ...        ...\n",
      "1118        805         98          1\n",
      "3572        480         55          1\n",
      "2482        889         76          3\n",
      "643         961         85          2\n",
      "299         769         94          1\n",
      "\n",
      "[800 rows x 3 columns]\n",
      "[57009.586   5871.673  57455.336  19543.957  58001.496  23607.447\n",
      " 54279.684  30657.25   61310.49   41541.96   39843.016  62908.23\n",
      "  8753.461  20016.836  19737.074  15407.109  54300.945  19434.436\n",
      " 65550.555  45667.29    9468.769  42541.71   67547.016   7114.6216\n",
      "  5108.1655 14915.416  47959.902  40681.465  35438.26   28439.523\n",
      " 11655.567  35600.07   53956.562  60953.87   33931.99   20362.56\n",
      " 43702.266  34052.242  29526.574  16347.73   21192.09   35599.152\n",
      " 24002.096  34803.25   17504.227  35957.69   59538.152  33296.953\n",
      " 22865.629  23872.736  64612.836  31891.926   6396.931  12606.808\n",
      " 64724.97   38490.695  35633.285  54809.32   55930.457  56333.44\n",
      " 24613.344   2779.7153 52991.42   18605.885  17767.004  14705.228\n",
      "  7955.446  32243.436   9703.222  38413.15   59645.48   60029.07\n",
      " 22018.012  36371.312  49294.125  44741.48   24540.85   48874.33\n",
      " 31645.89   68748.9     7126.8555 42048.66   27750.947  15285.064\n",
      " 31547.893  14598.458  66360.875  50776.633  33923.695  32958.85\n",
      " 24446.008  18155.127  29651.938  23888.469  52200.574   8729.284\n",
      " 28729.742  22242.492   8682.375  51424.043  49486.473  15171.27\n",
      " 28089.781  26335.719  31991.195  16205.067  17457.299  52805.62\n",
      "  3323.4976  5740.4175 17466.408  13149.699   7103.233  66375.19\n",
      " 43451.89   71976.7    49882.668  37563.36   46418.51   25632.236\n",
      " 52851.266  64572.414  15451.868  38674.168   6942.6187 40208.15\n",
      " 15151.68   19529.09   16567.91   27581.078  56732.805   6016.8315\n",
      " 48674.68   17240.633  56774.992  41001.062  11545.181  45374.047\n",
      " 42355.676  60659.56   56405.414  63058.55   10178.36   45598.113\n",
      " 25406.871   3012.424   7769.773  18745.398  55551.85   38428.887\n",
      " 52536.273  45583.117  23460.527  26638.95   28048.998  33243.504\n",
      " 40421.79   27228.762   6872.652  69389.7    16710.688  27723.605\n",
      " 24289.137  25367.404  27365.434  39759.086  20201.42   38906.65\n",
      " 49993.496  13483.009  38997.78    5989.441  32317.947  56597.605\n",
      " 65966.984  23649.467  42965.6    58517.797  20577.508  33864.723\n",
      " 21969.543  55978.914  53386.293  67783.62   48226.383  56056.043\n",
      " 52336.254  70799.375  47333.547  34214.223  21520.885  12303.968\n",
      " 24603.574  69848.23   53289.24   68742.35   67665.5    38096.87\n",
      " 33779.473  36515.19   32877.     37406.21    3695.0498 42027.63\n",
      " 65183.69   32172.26   70342.45   11454.666  16970.123  66922.36\n",
      " 58701.594  28019.59    9625.724  68376.766  43595.855  36549.863\n",
      " 64661.867  54787.113  14415.432  48160.18   29905.086  65008.355\n",
      " 48390.965  28636.041  11696.894  64280.805  20387.814  51998.637\n",
      "  9945.258  60868.934  60022.285   3971.247   8448.829  53552.14\n",
      " 65287.22   30842.332  22626.107  30192.188  42077.742  31298.04\n",
      "  6291.8003 16157.223   2704.1606 32733.945  63572.137  19217.078\n",
      " 22189.475  42081.14   29412.652  29554.527  14563.828  21690.979\n",
      " 37469.434  38685.227  29831.096  48615.79    4522.7085 50804.383\n",
      " 29553.725  46008.992  23977.475  11487.311  42925.258  57283.496\n",
      " 45893.906  13255.315  51560.086  23045.963   2917.945  19764.617\n",
      " 42541.71   16596.965  56360.13   22966.664  49324.348  30559.566\n",
      " 46832.52   56458.895  56282.855  46644.508   6017.451  29436.588\n",
      " 42405.617  56168.465  20776.977  44189.105  52474.285  33659.062\n",
      "  8396.422  35218.844  17197.998  33226.51   13129.487  51475.223\n",
      " 57816.984  69584.93    6301.918  23401.633  31779.8     4147.7583\n",
      " 43890.38   29377.49   39681.406  19621.707   5491.2524 61993.355\n",
      " 24627.783  50477.55   23833.89   36046.9    17222.594  43688.51\n",
      " 30120.523  39628.51   14201.407  52935.824  51891.1    32936.883\n",
      " 52010.336  54659.2    61531.574  46295.98   64190.21   32549.9\n",
      " 67730.94   37806.95   21676.422  10636.365  26039.775  65854.51\n",
      " 28951.629  46691.793  17943.098  15143.185  65133.39   25148.525\n",
      " 31513.432  65664.42   59709.082  25723.684  29428.176  16903.36\n",
      " 16320.753   6843.2793 52459.81   29131.28   47685.152  11690.157\n",
      " 67381.87   17419.395  59695.918  38402.617  49159.19   20858.094\n",
      " 36975.133  42544.574  56982.18   33701.27   50531.887  42107.45\n",
      " 70292.14   66515.88   48696.715  34875.824  14244.051  38526.258\n",
      "  9902.837  64241.168  39741.918  42703.793  30879.21   68188.46\n",
      " 65524.21   49500.383  14836.714   6535.443  22832.754  45810.965\n",
      " 13375.536  70443.7    42091.656  65972.6     8579.742  51141.6\n",
      " 56870.203  40786.246   9106.853  27340.498  38008.516  57338.918\n",
      " 61701.977  27834.281  50870.875  49814.344  58668.227  31767.969\n",
      " 52892.74   15315.557  34000.2    28722.453  19001.16   21887.416\n",
      " 39795.504  51530.777  38795.746  65878.96   64479.836  45642.137\n",
      "  6774.5044 39274.242  57600.203  30261.877  51094.23   20465.504\n",
      " 68866.25   15022.904  65435.625  41615.75   35116.023  17015.898\n",
      " 31026.502  62165.668  51882.05   39038.7    20387.584  40214.508\n",
      " 49420.645   5033.998  58868.37   34706.6    45757.344  54964.37\n",
      " 43783.15   63797.832  33212.137  21005.512  17140.098   6028.978\n",
      " 22873.871  51020.09   12266.718  24740.035  51062.887  61955.51\n",
      " 68580.59   30177.64   13154.257  59754.277  21777.182  39154.723\n",
      " 64415.14   54747.484  31617.463  50164.305  21637.064  63282.71\n",
      " 35818.33    9490.556  30969.01    3696.1973 27908.39   28536.514\n",
      " 33335.164  18234.783  37251.074  34664.75   37518.91    7057.134\n",
      " 38819.508  58093.008  57848.54   21854.709  19008.184  63038.938\n",
      " 41961.133  45305.98   54623.23    6941.5303 28596.865  22360.146\n",
      " 65199.46   45441.55   35189.535  57755.004  59912.59   49606.684\n",
      " 37351.324   9358.001  19613.473  37333.29    3162.6353 26954.164\n",
      " 32815.47   12388.816  46613.793   9328.362   3366.5388 53784.395\n",
      " 18613.635  55722.97   11827.395  56731.33   60404.13   25349.164\n",
      " 51062.887  54885.723   6872.465  47653.75   16843.635  57885.93\n",
      " 16971.791   6975.859   7390.688  56689.07   65589.37   64099.258\n",
      " 57725.473  61340.215  19669.766  30325.846  12763.707  41005.223\n",
      " 47051.797  25475.516  23701.838  41826.344  29328.385  12918.283\n",
      " 58531.36   68926.125  48107.195  46577.215  40922.41   24106.695\n",
      " 69724.2    60368.742  69210.67   53089.984   4269.4033 37875.93\n",
      " 58083.355  23676.457  15762.614  41217.61   14326.476  47145.582\n",
      " 42760.203  49327.543  54672.617  49450.125  44968.113  49065.38\n",
      " 30544.58   24648.234  47335.836   5678.9683 64309.195  33823.85\n",
      " 33309.707  64261.99   18033.701  38273.613  39302.344  27516.63\n",
      " 20057.89   18625.875  45926.984  30673.906   6347.513   6352.125\n",
      " 29736.574  31375.074  52875.72   37592.465  63419.42   38649.754\n",
      " 41846.42   14152.666  33643.66   18597.605   6321.8105  3874.5854\n",
      "  8919.007  34151.332  38548.97   62474.027  36752.418  12292.099\n",
      " 28174.848  22443.58   38297.715  55701.426  54307.8    33280.63\n",
      " 15186.984  23375.377  38828.29   35806.88   22035.238  49704.1\n",
      "  7934.031  54290.516  19742.     69847.98    5175.0483  8281.582\n",
      " 52631.582   6311.998  63340.2    39081.688   5555.827  45530.652\n",
      " 21478.145   7138.996  14547.455  56176.58   31964.62   34460.66\n",
      "  8311.12   23485.838  18366.395  21140.27   62888.35   62646.875\n",
      " 60976.465  62431.824  63869.48   39287.31   47037.277  36356.54\n",
      " 60395.94    5656.108  35736.777  16367.314  60968.305  56449.824\n",
      " 24895.223  62257.504   7581.2544 11633.438  32287.86   19957.498\n",
      " 19763.479   4275.452  57134.42   26085.791  56828.87   18383.273\n",
      " 16784.932   7829.0557 45023.188  10873.835  53584.367  35624.95\n",
      " 21228.988  32349.285  18093.852  60309.51   58686.28   53659.926\n",
      " 33842.31   64841.652  32071.479  28206.97   58736.824  40325.434\n",
      " 30575.186  46104.79   26412.938  59840.81   24730.895  69511.9\n",
      " 41630.63   31032.156   4573.7144  6416.0737 21124.682  31669.717\n",
      " 28539.986   7126.785  21364.064  15763.385  10063.892  43445.72\n",
      " 57053.793  30829.283   4974.855  25549.352  20627.318  29669.049\n",
      " 65233.277  22846.271  25403.336  52779.426  31582.764  21833.793\n",
      " 20471.861  30426.508  51511.383  11963.605  46542.715   5060.26\n",
      " 35458.7    34981.617  10393.853  41409.67   16018.491  43839.566\n",
      " 59858.273  29573.604  44001.24   33076.58   16382.873  18319.99\n",
      " 29044.412  29762.74   42588.19   27980.32   69603.75   48282.652\n",
      " 46448.69   25047.188  47375.35   50942.17   35179.918  46822.223\n",
      "  1977.4261 61136.875  40777.19   56568.72   10358.189  30065.08\n",
      " 54795.83   35036.973  46789.773  48181.258  24883.332  48231.58\n",
      " 56985.65   10953.928  48501.76   32463.486  50129.78   28857.69\n",
      " 57506.637  45171.926  33088.418  42724.312  22504.428  48238.676\n",
      " 26373.428  41205.93   38424.973  55215.156  16579.605  67768.836\n",
      " 29210.697  67287.1    10977.312  50940.438  21611.13   30829.355\n",
      " 26494.979  25320.174  52729.047  11896.9    21555.549  37197.945\n",
      " 20003.787  36530.836  39157.836  66254.99    2483.232  29654.938\n",
      " 14697.72    2855.8406 55056.977  59521.12   36729.78   50984.785\n",
      " 54360.832  37295.91   49173.74   59543.703  54868.082   1669.1019\n",
      " 61507.9    24587.826  28594.422  34272.96   26983.752  14228.937\n",
      " 55435.355  16560.914  29624.033  59346.35   34655.53   64483.523\n",
      " 69526.586  56537.117 ]\n"
     ]
    }
   ],
   "source": [
    "from sklearn.metrics import mean_absolute_error\n",
    "predictions = model.predict(x_test)\n",
    "print(x_test)\n",
    "print(predictions)"
   ]
  },
  {
   "cell_type": "code",
   "execution_count": 194,
   "metadata": {},
   "outputs": [
    {
     "name": "stdout",
     "output_type": "stream",
     "text": [
      "the mean absolute error is  269.1686050415039\n"
     ]
    }
   ],
   "source": [
    "mae = mean_absolute_error(predictions, y_test)\n",
    "print(\"the mean absolute error is \", mae)"
   ]
  },
  {
   "cell_type": "code",
   "execution_count": 195,
   "metadata": {},
   "outputs": [
    {
     "name": "stdout",
     "output_type": "stream",
     "text": [
      "   variable1  variable2 variable3\n",
      "0        552         96         A\n",
      "1        552         96         B\n",
      "2        552         96         C\n",
      "3        552         96         D\n",
      "0    42120\n",
      "1    42768\n",
      "2    43416\n",
      "3    44064\n",
      "Name: result, dtype: int64\n"
     ]
    }
   ],
   "source": [
    "testSample=pd.read_csv(\"file.csv\")\n",
    "test = testSample.iloc[:,1:4]\n",
    "answer = testSample.iloc[:,4]\n",
    "print(test)\n",
    "print(answer)"
   ]
  },
  {
   "cell_type": "code",
   "execution_count": 196,
   "metadata": {},
   "outputs": [
    {
     "name": "stdout",
     "output_type": "stream",
     "text": [
      "   B  C  D\n",
      "0  0  0  0\n",
      "1  1  0  0\n",
      "2  0  1  0\n",
      "3  0  0  1\n"
     ]
    }
   ],
   "source": [
    "variable2 =pd.get_dummies(test['variable3'],drop_first=True)\n",
    "\n",
    "print(variable2)"
   ]
  },
  {
   "cell_type": "code",
   "execution_count": 197,
   "metadata": {},
   "outputs": [
    {
     "name": "stdout",
     "output_type": "stream",
     "text": [
      "   variable1  variable2  B  C  D\n",
      "0        552         96  0  0  0\n",
      "1        552         96  1  0  0\n",
      "2        552         96  0  1  0\n",
      "3        552         96  0  0  1\n"
     ]
    }
   ],
   "source": [
    "test=test.drop(['variable3'],axis=1)\n",
    "test=pd.concat([test,variable2],axis=1)\n",
    "print(test)"
   ]
  },
  {
   "cell_type": "code",
   "execution_count": 198,
   "metadata": {},
   "outputs": [
    {
     "ename": "ValueError",
     "evalue": "feature_names mismatch: ['variable1', 'variable2', 'variable3'] ['variable1', 'variable2', 'B', 'C', 'D']\nexpected variable3 in input data\ntraining data did not have the following fields: B, C, D",
     "output_type": "error",
     "traceback": [
      "\u001b[1;31m---------------------------------------------------------------------------\u001b[0m",
      "\u001b[1;31mValueError\u001b[0m                                Traceback (most recent call last)",
      "\u001b[1;32m<ipython-input-198-cd176e4fa02e>\u001b[0m in \u001b[0;36m<module>\u001b[1;34m\u001b[0m\n\u001b[1;32m----> 1\u001b[1;33m \u001b[0mprediction2\u001b[0m \u001b[1;33m=\u001b[0m \u001b[0mmodel\u001b[0m\u001b[1;33m.\u001b[0m\u001b[0mpredict\u001b[0m\u001b[1;33m(\u001b[0m\u001b[0mtest\u001b[0m\u001b[1;33m)\u001b[0m\u001b[1;33m\u001b[0m\u001b[1;33m\u001b[0m\u001b[0m\n\u001b[0m\u001b[0;32m      2\u001b[0m \u001b[0mprint\u001b[0m\u001b[1;33m(\u001b[0m\u001b[0mprediction2\u001b[0m\u001b[1;33m)\u001b[0m\u001b[1;33m\u001b[0m\u001b[1;33m\u001b[0m\u001b[0m\n",
      "\u001b[1;32m~\\anaconda3\\lib\\site-packages\\xgboost\\sklearn.py\u001b[0m in \u001b[0;36mpredict\u001b[1;34m(self, data, output_margin, ntree_limit, validate_features, base_margin)\u001b[0m\n\u001b[0;32m    598\u001b[0m                                           \u001b[0moutput_margin\u001b[0m\u001b[1;33m=\u001b[0m\u001b[0moutput_margin\u001b[0m\u001b[1;33m,\u001b[0m\u001b[1;33m\u001b[0m\u001b[1;33m\u001b[0m\u001b[0m\n\u001b[0;32m    599\u001b[0m                                           \u001b[0mntree_limit\u001b[0m\u001b[1;33m=\u001b[0m\u001b[0mntree_limit\u001b[0m\u001b[1;33m,\u001b[0m\u001b[1;33m\u001b[0m\u001b[1;33m\u001b[0m\u001b[0m\n\u001b[1;32m--> 600\u001b[1;33m                                           validate_features=validate_features)\n\u001b[0m\u001b[0;32m    601\u001b[0m \u001b[1;33m\u001b[0m\u001b[0m\n\u001b[0;32m    602\u001b[0m     \u001b[1;32mdef\u001b[0m \u001b[0mapply\u001b[0m\u001b[1;33m(\u001b[0m\u001b[0mself\u001b[0m\u001b[1;33m,\u001b[0m \u001b[0mX\u001b[0m\u001b[1;33m,\u001b[0m \u001b[0mntree_limit\u001b[0m\u001b[1;33m=\u001b[0m\u001b[1;36m0\u001b[0m\u001b[1;33m)\u001b[0m\u001b[1;33m:\u001b[0m\u001b[1;33m\u001b[0m\u001b[1;33m\u001b[0m\u001b[0m\n",
      "\u001b[1;32m~\\anaconda3\\lib\\site-packages\\xgboost\\core.py\u001b[0m in \u001b[0;36mpredict\u001b[1;34m(self, data, output_margin, ntree_limit, pred_leaf, pred_contribs, approx_contribs, pred_interactions, validate_features, training)\u001b[0m\n\u001b[0;32m   1569\u001b[0m \u001b[1;33m\u001b[0m\u001b[0m\n\u001b[0;32m   1570\u001b[0m         \u001b[1;32mif\u001b[0m \u001b[0mvalidate_features\u001b[0m\u001b[1;33m:\u001b[0m\u001b[1;33m\u001b[0m\u001b[1;33m\u001b[0m\u001b[0m\n\u001b[1;32m-> 1571\u001b[1;33m             \u001b[0mself\u001b[0m\u001b[1;33m.\u001b[0m\u001b[0m_validate_features\u001b[0m\u001b[1;33m(\u001b[0m\u001b[0mdata\u001b[0m\u001b[1;33m)\u001b[0m\u001b[1;33m\u001b[0m\u001b[1;33m\u001b[0m\u001b[0m\n\u001b[0m\u001b[0;32m   1572\u001b[0m \u001b[1;33m\u001b[0m\u001b[0m\n\u001b[0;32m   1573\u001b[0m         \u001b[0mlength\u001b[0m \u001b[1;33m=\u001b[0m \u001b[0mc_bst_ulong\u001b[0m\u001b[1;33m(\u001b[0m\u001b[1;33m)\u001b[0m\u001b[1;33m\u001b[0m\u001b[1;33m\u001b[0m\u001b[0m\n",
      "\u001b[1;32m~\\anaconda3\\lib\\site-packages\\xgboost\\core.py\u001b[0m in \u001b[0;36m_validate_features\u001b[1;34m(self, data)\u001b[0m\n\u001b[0;32m   2129\u001b[0m \u001b[1;33m\u001b[0m\u001b[0m\n\u001b[0;32m   2130\u001b[0m                 raise ValueError(msg.format(self.feature_names,\n\u001b[1;32m-> 2131\u001b[1;33m                                             data.feature_names))\n\u001b[0m\u001b[0;32m   2132\u001b[0m \u001b[1;33m\u001b[0m\u001b[0m\n\u001b[0;32m   2133\u001b[0m     def get_split_value_histogram(self, feature, fmap='', bins=None,\n",
      "\u001b[1;31mValueError\u001b[0m: feature_names mismatch: ['variable1', 'variable2', 'variable3'] ['variable1', 'variable2', 'B', 'C', 'D']\nexpected variable3 in input data\ntraining data did not have the following fields: B, C, D"
     ]
    }
   ],
   "source": [
    "prediction2 = model.predict(test)\n",
    "print(prediction2)"
   ]
  },
  {
   "cell_type": "code",
   "execution_count": null,
   "metadata": {},
   "outputs": [],
   "source": [
    "import pickle"
   ]
  },
  {
   "cell_type": "code",
   "execution_count": null,
   "metadata": {},
   "outputs": [],
   "source": [
    "with open('model_pickle', 'wb') as f:\n",
    "    pickle.dump(model, f)"
   ]
  },
  {
   "cell_type": "code",
   "execution_count": null,
   "metadata": {},
   "outputs": [],
   "source": [
    "with open('model_pickle', 'rb') as f:\n",
    "    mp = pickle.load(f)"
   ]
  },
  {
   "cell_type": "code",
   "execution_count": null,
   "metadata": {},
   "outputs": [],
   "source": [
    "print(mp.predict(test))"
   ]
  },
  {
   "cell_type": "code",
   "execution_count": null,
   "metadata": {},
   "outputs": [],
   "source": []
  }
 ],
 "metadata": {
  "kernelspec": {
   "display_name": "Python 3",
   "language": "python",
   "name": "python3"
  },
  "language_info": {
   "codemirror_mode": {
    "name": "ipython",
    "version": 3
   },
   "file_extension": ".py",
   "mimetype": "text/x-python",
   "name": "python",
   "nbconvert_exporter": "python",
   "pygments_lexer": "ipython3",
   "version": "3.7.6"
  }
 },
 "nbformat": 4,
 "nbformat_minor": 4
}
