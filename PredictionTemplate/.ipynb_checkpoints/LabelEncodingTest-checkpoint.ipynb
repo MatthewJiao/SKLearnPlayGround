{
 "cells": [
  {
   "cell_type": "code",
   "execution_count": 77,
   "metadata": {},
   "outputs": [],
   "source": [
    "import pandas as pd"
   ]
  },
  {
   "cell_type": "code",
   "execution_count": 78,
   "metadata": {},
   "outputs": [],
   "source": [
    "data=pd.read_csv('dataset.csv')"
   ]
  },
  {
   "cell_type": "code",
   "execution_count": 79,
   "metadata": {},
   "outputs": [
    {
     "data": {
      "text/html": [
       "<div>\n",
       "<style scoped>\n",
       "    .dataframe tbody tr th:only-of-type {\n",
       "        vertical-align: middle;\n",
       "    }\n",
       "\n",
       "    .dataframe tbody tr th {\n",
       "        vertical-align: top;\n",
       "    }\n",
       "\n",
       "    .dataframe thead th {\n",
       "        text-align: right;\n",
       "    }\n",
       "</style>\n",
       "<table border=\"1\" class=\"dataframe\">\n",
       "  <thead>\n",
       "    <tr style=\"text-align: right;\">\n",
       "      <th></th>\n",
       "      <th>RowNumber</th>\n",
       "      <th>variable1</th>\n",
       "      <th>variable2</th>\n",
       "      <th>variable3</th>\n",
       "      <th>result</th>\n",
       "    </tr>\n",
       "  </thead>\n",
       "  <tbody>\n",
       "    <tr>\n",
       "      <th>0</th>\n",
       "      <td>1</td>\n",
       "      <td>435</td>\n",
       "      <td>78</td>\n",
       "      <td>D</td>\n",
       "      <td>34884</td>\n",
       "    </tr>\n",
       "    <tr>\n",
       "      <th>1</th>\n",
       "      <td>2</td>\n",
       "      <td>285</td>\n",
       "      <td>94</td>\n",
       "      <td>C</td>\n",
       "      <td>25393</td>\n",
       "    </tr>\n",
       "    <tr>\n",
       "      <th>2</th>\n",
       "      <td>3</td>\n",
       "      <td>162</td>\n",
       "      <td>62</td>\n",
       "      <td>A</td>\n",
       "      <td>14560</td>\n",
       "    </tr>\n",
       "    <tr>\n",
       "      <th>3</th>\n",
       "      <td>4</td>\n",
       "      <td>648</td>\n",
       "      <td>47</td>\n",
       "      <td>D</td>\n",
       "      <td>47260</td>\n",
       "    </tr>\n",
       "    <tr>\n",
       "      <th>4</th>\n",
       "      <td>5</td>\n",
       "      <td>11</td>\n",
       "      <td>71</td>\n",
       "      <td>C</td>\n",
       "      <td>5494</td>\n",
       "    </tr>\n",
       "  </tbody>\n",
       "</table>\n",
       "</div>"
      ],
      "text/plain": [
       "   RowNumber  variable1  variable2 variable3  result\n",
       "0          1        435         78         D   34884\n",
       "1          2        285         94         C   25393\n",
       "2          3        162         62         A   14560\n",
       "3          4        648         47         D   47260\n",
       "4          5         11         71         C    5494"
      ]
     },
     "execution_count": 79,
     "metadata": {},
     "output_type": "execute_result"
    }
   ],
   "source": [
    "data.head()"
   ]
  },
  {
   "cell_type": "code",
   "execution_count": null,
   "metadata": {},
   "outputs": [],
   "source": []
  },
  {
   "cell_type": "code",
   "execution_count": 80,
   "metadata": {},
   "outputs": [
    {
     "name": "stdout",
     "output_type": "stream",
     "text": [
      "      variable1  variable2 variable3\n",
      "0           435         78         D\n",
      "1           285         94         C\n",
      "2           162         62         A\n",
      "3           648         47         D\n",
      "4            11         71         C\n",
      "...         ...        ...       ...\n",
      "3995         46         27         D\n",
      "3996        171         37         B\n",
      "3997        801         22         C\n",
      "3998        793         78         B\n",
      "3999        913         61         D\n",
      "\n",
      "[4000 rows x 3 columns]\n",
      "      B  C  D\n",
      "0     0  0  1\n",
      "1     0  1  0\n",
      "2     0  0  0\n",
      "3     0  0  1\n",
      "4     0  1  0\n",
      "...  .. .. ..\n",
      "3995  0  0  1\n",
      "3996  1  0  0\n",
      "3997  0  1  0\n",
      "3998  1  0  0\n",
      "3999  0  0  1\n",
      "\n",
      "[4000 rows x 3 columns]\n"
     ]
    },
    {
     "data": {
      "text/html": [
       "<div>\n",
       "<style scoped>\n",
       "    .dataframe tbody tr th:only-of-type {\n",
       "        vertical-align: middle;\n",
       "    }\n",
       "\n",
       "    .dataframe tbody tr th {\n",
       "        vertical-align: top;\n",
       "    }\n",
       "\n",
       "    .dataframe thead th {\n",
       "        text-align: right;\n",
       "    }\n",
       "</style>\n",
       "<table border=\"1\" class=\"dataframe\">\n",
       "  <thead>\n",
       "    <tr style=\"text-align: right;\">\n",
       "      <th></th>\n",
       "      <th>B</th>\n",
       "      <th>C</th>\n",
       "      <th>D</th>\n",
       "    </tr>\n",
       "  </thead>\n",
       "  <tbody>\n",
       "    <tr>\n",
       "      <th>0</th>\n",
       "      <td>0</td>\n",
       "      <td>0</td>\n",
       "      <td>1</td>\n",
       "    </tr>\n",
       "    <tr>\n",
       "      <th>1</th>\n",
       "      <td>0</td>\n",
       "      <td>1</td>\n",
       "      <td>0</td>\n",
       "    </tr>\n",
       "    <tr>\n",
       "      <th>2</th>\n",
       "      <td>0</td>\n",
       "      <td>0</td>\n",
       "      <td>0</td>\n",
       "    </tr>\n",
       "    <tr>\n",
       "      <th>3</th>\n",
       "      <td>0</td>\n",
       "      <td>0</td>\n",
       "      <td>1</td>\n",
       "    </tr>\n",
       "    <tr>\n",
       "      <th>4</th>\n",
       "      <td>0</td>\n",
       "      <td>1</td>\n",
       "      <td>0</td>\n",
       "    </tr>\n",
       "  </tbody>\n",
       "</table>\n",
       "</div>"
      ],
      "text/plain": [
       "   B  C  D\n",
       "0  0  0  1\n",
       "1  0  1  0\n",
       "2  0  0  0\n",
       "3  0  0  1\n",
       "4  0  1  0"
      ]
     },
     "execution_count": 80,
     "metadata": {},
     "output_type": "execute_result"
    }
   ],
   "source": [
    "x = data.iloc[:,1:4]\n",
    "y = data.iloc[:,4]\n",
    "print(x)\n",
    "variable =pd.get_dummies(x['variable3'],drop_first=True)\n",
    "print(variable)\n",
    "variable.head()"
   ]
  },
  {
   "cell_type": "code",
   "execution_count": 81,
   "metadata": {},
   "outputs": [
    {
     "data": {
      "text/html": [
       "<div>\n",
       "<style scoped>\n",
       "    .dataframe tbody tr th:only-of-type {\n",
       "        vertical-align: middle;\n",
       "    }\n",
       "\n",
       "    .dataframe tbody tr th {\n",
       "        vertical-align: top;\n",
       "    }\n",
       "\n",
       "    .dataframe thead th {\n",
       "        text-align: right;\n",
       "    }\n",
       "</style>\n",
       "<table border=\"1\" class=\"dataframe\">\n",
       "  <thead>\n",
       "    <tr style=\"text-align: right;\">\n",
       "      <th></th>\n",
       "      <th>variable1</th>\n",
       "      <th>variable2</th>\n",
       "    </tr>\n",
       "  </thead>\n",
       "  <tbody>\n",
       "    <tr>\n",
       "      <th>0</th>\n",
       "      <td>435</td>\n",
       "      <td>78</td>\n",
       "    </tr>\n",
       "    <tr>\n",
       "      <th>1</th>\n",
       "      <td>285</td>\n",
       "      <td>94</td>\n",
       "    </tr>\n",
       "    <tr>\n",
       "      <th>2</th>\n",
       "      <td>162</td>\n",
       "      <td>62</td>\n",
       "    </tr>\n",
       "    <tr>\n",
       "      <th>3</th>\n",
       "      <td>648</td>\n",
       "      <td>47</td>\n",
       "    </tr>\n",
       "    <tr>\n",
       "      <th>4</th>\n",
       "      <td>11</td>\n",
       "      <td>71</td>\n",
       "    </tr>\n",
       "  </tbody>\n",
       "</table>\n",
       "</div>"
      ],
      "text/plain": [
       "   variable1  variable2\n",
       "0        435         78\n",
       "1        285         94\n",
       "2        162         62\n",
       "3        648         47\n",
       "4         11         71"
      ]
     },
     "execution_count": 81,
     "metadata": {},
     "output_type": "execute_result"
    }
   ],
   "source": [
    "x=x.drop(['variable3'],axis=1)\n",
    "x.head()"
   ]
  },
  {
   "cell_type": "code",
   "execution_count": 82,
   "metadata": {},
   "outputs": [
    {
     "data": {
      "text/html": [
       "<div>\n",
       "<style scoped>\n",
       "    .dataframe tbody tr th:only-of-type {\n",
       "        vertical-align: middle;\n",
       "    }\n",
       "\n",
       "    .dataframe tbody tr th {\n",
       "        vertical-align: top;\n",
       "    }\n",
       "\n",
       "    .dataframe thead th {\n",
       "        text-align: right;\n",
       "    }\n",
       "</style>\n",
       "<table border=\"1\" class=\"dataframe\">\n",
       "  <thead>\n",
       "    <tr style=\"text-align: right;\">\n",
       "      <th></th>\n",
       "      <th>variable1</th>\n",
       "      <th>variable2</th>\n",
       "      <th>B</th>\n",
       "      <th>C</th>\n",
       "      <th>D</th>\n",
       "    </tr>\n",
       "  </thead>\n",
       "  <tbody>\n",
       "    <tr>\n",
       "      <th>0</th>\n",
       "      <td>435</td>\n",
       "      <td>78</td>\n",
       "      <td>0</td>\n",
       "      <td>0</td>\n",
       "      <td>1</td>\n",
       "    </tr>\n",
       "    <tr>\n",
       "      <th>1</th>\n",
       "      <td>285</td>\n",
       "      <td>94</td>\n",
       "      <td>0</td>\n",
       "      <td>1</td>\n",
       "      <td>0</td>\n",
       "    </tr>\n",
       "    <tr>\n",
       "      <th>2</th>\n",
       "      <td>162</td>\n",
       "      <td>62</td>\n",
       "      <td>0</td>\n",
       "      <td>0</td>\n",
       "      <td>0</td>\n",
       "    </tr>\n",
       "    <tr>\n",
       "      <th>3</th>\n",
       "      <td>648</td>\n",
       "      <td>47</td>\n",
       "      <td>0</td>\n",
       "      <td>0</td>\n",
       "      <td>1</td>\n",
       "    </tr>\n",
       "    <tr>\n",
       "      <th>4</th>\n",
       "      <td>11</td>\n",
       "      <td>71</td>\n",
       "      <td>0</td>\n",
       "      <td>1</td>\n",
       "      <td>0</td>\n",
       "    </tr>\n",
       "  </tbody>\n",
       "</table>\n",
       "</div>"
      ],
      "text/plain": [
       "   variable1  variable2  B  C  D\n",
       "0        435         78  0  0  1\n",
       "1        285         94  0  1  0\n",
       "2        162         62  0  0  0\n",
       "3        648         47  0  0  1\n",
       "4         11         71  0  1  0"
      ]
     },
     "execution_count": 82,
     "metadata": {},
     "output_type": "execute_result"
    }
   ],
   "source": [
    "x=pd.concat([x,variable],axis=1)\n",
    "x.head()"
   ]
  },
  {
   "cell_type": "code",
   "execution_count": 83,
   "metadata": {},
   "outputs": [
    {
     "data": {
      "image/png": "[encoded data removed]",
      "text/plain": [
       "<Figure size 1440x1440 with 2 Axes>"
      ]
     },
     "metadata": {
      "needs_background": "light"
     },
     "output_type": "display_data"
    }
   ],
   "source": [
    "X = pd.concat([x,y], axis=1)\n",
    "## Correlation\n",
    "import seaborn as sns\n",
    "import matplotlib.pyplot as plt\n",
    "\n",
    "plt.figure(figsize=(20,20))\n",
    "g=sns.heatmap(X.corr(),annot=True,cmap=\"RdYlGn\")"
   ]
  },
  {
   "cell_type": "code",
   "execution_count": 84,
   "metadata": {},
   "outputs": [
    {
     "name": "stdout",
     "output_type": "stream",
     "text": [
      "      variable1  variable2  B  C  D\n",
      "2230        828         40  0  0  0\n",
      "668          73         10  0  1  0\n",
      "3616        762         99  0  1  0\n",
      "2363        206         75  0  0  1\n",
      "142         862         15  1  0  0\n",
      "...         ...        ... .. .. ..\n",
      "1118        805         98  0  0  0\n",
      "3572        480         55  0  0  0\n",
      "2482        889         76  0  1  0\n",
      "643         961         85  1  0  0\n",
      "299         769         94  0  0  0\n",
      "\n",
      "[800 rows x 5 columns]\n"
     ]
    }
   ],
   "source": [
    "from sklearn.model_selection import train_test_split\n",
    "x_train, x_test, y_train , y_test = train_test_split(x,y, random_state = 0, test_size = 0.2)\n",
    "print(x_test)"
   ]
  },
  {
   "cell_type": "code",
   "execution_count": 85,
   "metadata": {},
   "outputs": [],
   "source": [
    "#from sklearn.preprocessing import StandardScaler\n",
    "#sc = StandardScaler()\n",
    "#x_train = sc.fit_transform(x_train)\n",
    "#x_test = sc.transform(x_test)\n",
    "#print(x_train)"
   ]
  },
  {
   "cell_type": "code",
   "execution_count": 86,
   "metadata": {},
   "outputs": [],
   "source": [
    "from xgboost import XGBRegressor\n",
    "\n",
    "params={\n",
    " \"n_estimators\"     : [10,100,200,500,800,1000,1200,1500,1700,2000,2200,2400,2600,2800,3000],\n",
    " \"learning_rate\"    : [0.05, 0.10, 0.15, 0.20, 0.25, 0.30, 0.35, 0.40 ] ,\n",
    " \"max_depth\"        : [ 3, 4, 5, 6, 8, 10, 12, 15],\n",
    " \"min_child_weight\" : [ 1, 3, 5, 7, 8,9,10 ],\n",
    " \"gamma\"            : [ 0.0, 0.1, 0.2 , 0.3, 0.4, 0.5,0.6 ],\n",
    " \"colsample_bytree\" : [ 0.3, 0.4, 0.5 , 0.7 ]\n",
    "    \n",
    "}\n",
    "model = XGBRegressor()"
   ]
  },
  {
   "cell_type": "code",
   "execution_count": 87,
   "metadata": {},
   "outputs": [],
   "source": [
    "def timer(start_time=None):\n",
    "    if not start_time:\n",
    "        start_time = datetime.now()\n",
    "        return start_time\n",
    "    elif start_time:\n",
    "        thour, temp_sec = divmod((datetime.now() - start_time).total_seconds(), 3600)\n",
    "        tmin, tsec = divmod(temp_sec, 60)\n",
    "        print('\\n Time taken: %i hours %i minutes and %s seconds.' % (thour, tmin, round(tsec, 2)))"
   ]
  },
  {
   "cell_type": "code",
   "execution_count": 88,
   "metadata": {},
   "outputs": [],
   "source": [
    "from sklearn.model_selection import RandomizedSearchCV, GridSearchCV\n",
    "random_search=RandomizedSearchCV(model,param_distributions=params,n_iter=5,n_jobs=-1,cv=5,verbose=3)\n"
   ]
  },
  {
   "cell_type": "code",
   "execution_count": 89,
   "metadata": {},
   "outputs": [
    {
     "name": "stdout",
     "output_type": "stream",
     "text": [
      "Fitting 5 folds for each of 5 candidates, totalling 25 fits\n"
     ]
    },
    {
     "name": "stderr",
     "output_type": "stream",
     "text": [
      "[Parallel(n_jobs=-1)]: Using backend LokyBackend with 8 concurrent workers.\n",
      "[Parallel(n_jobs=-1)]: Done  19 out of  25 | elapsed:   14.5s remaining:    4.5s\n",
      "[Parallel(n_jobs=-1)]: Done  25 out of  25 | elapsed:   19.0s finished\n"
     ]
    },
    {
     "name": "stdout",
     "output_type": "stream",
     "text": [
      "\n",
      " Time taken: 0 hours 0 minutes and 20.87 seconds.\n"
     ]
    }
   ],
   "source": [
    "from datetime import datetime\n",
    "start_time = timer(None)\n",
    "random_search.fit(x_train,y_train)\n",
    "timer(start_time)"
   ]
  },
  {
   "cell_type": "code",
   "execution_count": 90,
   "metadata": {},
   "outputs": [
    {
     "data": {
      "text/plain": [
       "XGBRegressor(base_score=0.5, booster='gbtree', colsample_bylevel=1,\n",
       "             colsample_bynode=1, colsample_bytree=0.4, gamma=0.4, gpu_id=-1,\n",
       "             importance_type='gain', interaction_constraints='',\n",
       "             learning_rate=0.35, max_delta_step=0, max_depth=5,\n",
       "             min_child_weight=3, missing=nan, monotone_constraints='()',\n",
       "             n_estimators=2200, n_jobs=0, num_parallel_tree=1,\n",
       "             objective='reg:squarederror', random_state=0, reg_alpha=0,\n",
       "             reg_lambda=1, scale_pos_weight=1, subsample=1, tree_method='exact',\n",
       "             validate_parameters=1, verbosity=None)"
      ]
     },
     "execution_count": 90,
     "metadata": {},
     "output_type": "execute_result"
    }
   ],
   "source": [
    "random_search.best_estimator_"
   ]
  },
  {
   "cell_type": "code",
   "execution_count": 91,
   "metadata": {},
   "outputs": [
    {
     "data": {
      "text/plain": [
       "{'n_estimators': 2200,\n",
       " 'min_child_weight': 3,\n",
       " 'max_depth': 5,\n",
       " 'learning_rate': 0.35,\n",
       " 'gamma': 0.4,\n",
       " 'colsample_bytree': 0.4}"
      ]
     },
     "execution_count": 91,
     "metadata": {},
     "output_type": "execute_result"
    }
   ],
   "source": [
    "random_search.best_params_"
   ]
  },
  {
   "cell_type": "code",
   "execution_count": null,
   "metadata": {},
   "outputs": [],
   "source": []
  },
  {
   "cell_type": "code",
   "execution_count": 92,
   "metadata": {},
   "outputs": [],
   "source": [
    "\n",
    "model = XGBRegressor(base_score=0.5, booster='gbtree', colsample_bylevel=1,\n",
    "             colsample_bynode=1, colsample_bytree=0.7, gamma=0.0, gpu_id=-1,\n",
    "             importance_type='gain', interaction_constraints='',\n",
    "             learning_rate=0.25, max_delta_step=0, max_depth=3,\n",
    "             min_child_weight=1,  monotone_constraints='()',\n",
    "             n_estimators=2600, n_jobs=0, num_parallel_tree=1,\n",
    "             objective='reg:squarederror', random_state=0, reg_alpha=0,\n",
    "             reg_lambda=1, scale_pos_weight=1, subsample=1, tree_method='exact',\n",
    "             validate_parameters=1, verbosity=None\n",
    ")"
   ]
  },
  {
   "cell_type": "code",
   "execution_count": null,
   "metadata": {},
   "outputs": [],
   "source": []
  },
  {
   "cell_type": "code",
   "execution_count": 93,
   "metadata": {},
   "outputs": [
    {
     "name": "stdout",
     "output_type": "stream",
     "text": [
      "\n",
      " Time taken: 0 hours 0 minutes and 1.99 seconds.\n"
     ]
    }
   ],
   "source": [
    "from datetime import datetime\n",
    "start_time = timer(None)\n",
    "model.fit(x_train, y_train)\n",
    "timer(start_time)"
   ]
  },
  {
   "cell_type": "code",
   "execution_count": 94,
   "metadata": {},
   "outputs": [
    {
     "name": "stdout",
     "output_type": "stream",
     "text": [
      "      variable1  variable2  B  C  D\n",
      "2230        828         40  0  0  0\n",
      "668          73         10  0  1  0\n",
      "3616        762         99  0  1  0\n",
      "2363        206         75  0  0  1\n",
      "142         862         15  1  0  0\n",
      "...         ...        ... .. .. ..\n",
      "1118        805         98  0  0  0\n",
      "3572        480         55  0  0  0\n",
      "2482        889         76  0  1  0\n",
      "643         961         85  1  0  0\n",
      "299         769         94  0  0  0\n",
      "\n",
      "[800 rows x 5 columns]\n",
      "[56535.133   5607.5366 57636.92   19141.791  57927.38   23322.465\n",
      " 53928.74   30674.53   61146.766  41617.33   39879.824  62760.844\n",
      "  8274.929  19859.463  19875.074  15828.403  54099.76   19667.184\n",
      " 65503.617  45485.426   9948.538  42594.043  68024.805   7407.9175\n",
      "  6026.7056 15197.6    47960.96   40541.305  35396.562  28091.87\n",
      " 10779.636  35506.625  53440.87   61965.05   33846.348  20564.193\n",
      " 43502.11   34195.254  29528.785  16309.936  21181.385  35594.17\n",
      " 24213.508  34802.344  17968.068  35933.523  59993.38   33245.305\n",
      " 23144.846  23765.172  64552.99   31916.73    6154.5366 12483.323\n",
      " 64987.156  38374.008  35694.227  54285.96   56471.94   56512.76\n",
      " 24327.691   3349.3323 53444.055  18858.777  17781.506  15169.949\n",
      "  7771.012  32173.13   10241.552  38347.44   59694.89   60612.125\n",
      " 21369.994  36447.3    49176.25   44731.14   24575.438  48864.836\n",
      " 31750.87   68809.9     7242.0967 41860.74   28002.715  15516.411\n",
      " 31513.57   14435.088  66890.695  50381.457  33887.33   32944.273\n",
      " 24463.328  18038.807  29747.107  23926.395  52193.996   8464.082\n",
      " 28763.467  21775.176   9244.532  51783.438  49956.297  15557.091\n",
      " 27805.814  26001.994  31850.498  16538.025  17778.975  52778.438\n",
      "  3667.9937  5227.196  16951.633  12704.664   6648.3706 65626.75\n",
      " 43313.207  71519.44   49750.69   37548.805  46358.926  25577.293\n",
      " 53286.93   64830.91   15530.376  38685.21    5837.328  40106.652\n",
      " 15182.269  19183.719  16242.066  27575.965  56576.      6631.009\n",
      " 48824.008  17839.996  56375.832  40957.934  11220.458  45437.05\n",
      " 42351.324  60079.617  56780.758  63249.785   9671.267  45599.684\n",
      " 25294.037   2542.707   8549.489  18173.625  55765.062  38252.945\n",
      " 52447.953  45578.324  23139.04   26751.398  28230.252  33377.395\n",
      " 40413.87   27129.594   7282.0117 69201.29   16480.47   27624.947\n",
      " 24564.715  25245.016  27147.322  39693.55   20008.73   38998.918\n",
      " 50119.316  13118.718  38905.387   5326.948  32282.545  56981.625\n",
      " 66449.414  24027.111  43360.473  58947.63   20607.434  33811.72\n",
      " 21930.533  56369.72   53314.82   68055.39   47934.066  56558.37\n",
      " 52672.715  71208.49   47422.098  34023.32   21889.05   12015.155\n",
      " 24721.23   69712.73   53165.688  68241.7    68570.7    38014.3\n",
      " 33727.35   36300.184  32880.465  37477.1     4044.6584 42302.254\n",
      " 65400.035  32117.436  70229.5    11803.739  17553.07   66181.5\n",
      " 58436.26   27809.008  10062.347  67662.83   43430.04   36616.9\n",
      " 65259.414  54245.363  13684.423  48471.27   30045.441  64427.656\n",
      " 48396.95   28591.627  11556.054  64308.367  20624.512  51647.16\n",
      "  9794.637  61476.992  59473.094   3111.261   9273.967  53959.234\n",
      " 65775.36   30853.92   22238.787  30200.64   42523.5    31266.904\n",
      "  5927.8296 15849.929   3108.0022 32839.777  62926.727  19303.59\n",
      " 22574.055  42064.74   29430.46   29362.975  14199.291  22038.977\n",
      " 37357.605  38425.25   29809.512  48854.145   5230.962  50356.87\n",
      " 29490.518  45599.383  24314.404  11275.429  42849.67   56809.254\n",
      " 45760.957  13647.873  51280.465  23269.613   3435.0193 19983.818\n",
      " 42799.246  17160.395  56573.51   23184.643  49663.258  30678.615\n",
      " 46632.746  56094.113  56101.266  46563.562   6682.167  29587.754\n",
      " 42549.496  56292.9    20849.543  44396.113  52393.688  33650.47\n",
      "  8782.513  35191.977  17831.506  33382.312  13591.172  51679.04\n",
      " 58142.21   69421.57    5915.6104 23528.348  31830.457   4373.746\n",
      " 43880.695  29296.893  39385.215  19161.611   6097.647  62678.383\n",
      " 24483.393  50243.09   24076.973  35975.832  17394.65   43713.066\n",
      " 30165.568  39713.4    14355.28   53175.457  52211.348  32839.223\n",
      " 52435.426  54311.176  61463.87   46305.105  63238.984  32673.516\n",
      " 67979.32   37888.08   21835.084   9888.48   26255.928  65270.14\n",
      " 29144.422  46753.01   18358.354  14633.354  64469.707  25453.451\n",
      " 31705.053  65609.586  59461.066  25686.033  29583.713  16132.266\n",
      " 16851.143   7841.8994 52473.484  28992.055  47407.332  11789.842\n",
      " 66600.805  17402.688  59849.105  38470.49   49084.254  21282.342\n",
      " 36910.47   42598.914  56631.58   33490.008  50504.074  42316.33\n",
      " 70295.836  66072.13   48816.652  34945.477  14616.853  38485.19\n",
      "  9773.908  64436.99   39684.938  42866.883  30884.215  68814.21\n",
      " 65560.9    49280.758  14829.247   6510.093  22878.953  45770.69\n",
      " 13560.715  69911.125  42040.316  65491.445   9027.53   50915.242\n",
      " 57176.766  40920.812   8387.776  27144.57   37974.297  56500.95\n",
      " 61134.582  27524.865  50593.246  50128.42   58445.902  31534.955\n",
      " 53232.68   14668.366  33952.465  28690.355  18979.236  22276.912\n",
      " 39561.29   51637.29   38591.06   66031.57   64932.812  45928.07\n",
      "  6861.584  39517.93   57656.242  30346.924  51488.184  20755.395\n",
      " 69022.56   15494.81   66209.54   41685.363  35143.75   16804.154\n",
      " 30966.59   62268.684  51794.734  38862.336  20300.47   40311.5\n",
      " 49408.51    5627.7803 58584.477  34770.227  45733.14   54916.2\n",
      " 43715.996  64546.81   33077.406  21250.246  16646.512   5928.926\n",
      " 22503.008  51024.562  11823.37   25133.861  50978.383  62722.598\n",
      " 68097.79   30017.826  13306.862  60266.348  21525.95   39091.95\n",
      " 63993.98   54468.305  31606.092  50309.777  21982.398  63563.973\n",
      " 35775.793   9552.314  31187.404   3336.0068 27701.209  28498.887\n",
      " 33273.93   18504.664  37360.062  34544.96   37562.406   7689.363\n",
      " 38792.19   58637.324  58471.312  21714.525  18880.168  62463.85\n",
      " 41932.04   45133.547  55131.92    7002.303  28469.791  22558.96\n",
      " 64769.027  45580.52   35170.35   57976.906  60365.04   49851.086\n",
      " 37279.51    8971.048  20087.316  37470.95    3529.8472 26964.312\n",
      " 32757.398  12793.723  46437.293  10227.825   3604.2473 54129.523\n",
      " 18227.947  55912.375  11352.639  57029.016  60693.066  25567.834\n",
      " 50978.383  54501.39    6702.305  47401.152  16717.734  57648.195\n",
      " 17314.04    7792.6606  7298.8076 57479.957  65245.29   64228.934\n",
      " 57543.145  60905.76   19965.75   30230.602  13100.461  40963.46\n",
      " 47117.23   25583.89   23943.574  41776.797  29634.836  13404.885\n",
      " 58977.656  69278.78   48224.613  46654.54   40940.29   24388.637\n",
      " 69115.12   59798.92   69624.234  52741.73    3614.0261 37944.21\n",
      " 58692.023  23779.533  15691.477  41145.117  14485.928  47105.91\n",
      " 42612.176  49370.527  55003.445  49701.21   45075.754  49121.65\n",
      " 30632.545  24535.045  47228.023   6051.4565 64769.97   33763.117\n",
      " 33309.82   64527.637  17858.229  38146.52   39239.973  27624.867\n",
      " 20539.852  18465.453  46153.3    30642.404   6322.5522  6294.2905\n",
      " 29814.566  31366.81   53204.855  37659.773  63635.684  38447.88\n",
      " 42086.14   14485.837  33633.305  17937.578   5615.832   3246.6033\n",
      "  8656.685  34176.91   38522.     62757.863  36619.133  11747.091\n",
      " 27870.4    22602.746  38347.973  55998.023  54519.6    33366.797\n",
      " 14985.482  23855.55   38780.297  35986.707  22144.605  49563.938\n",
      "  8023.0713 54342.99   19985.705  69697.67    5584.5615  7289.2827\n",
      " 52321.586   7165.7705 64260.227  39087.402   4988.661  45532.97\n",
      " 21166.576   6437.3364 14776.234  56025.547  32058.418  34276.727\n",
      "  7718.5684 23232.162  17900.242  20983.572  62423.332  62001.773\n",
      " 61215.402  63158.664  64121.906  39399.312  47345.727  36231.793\n",
      " 60096.7     5475.277  35696.188  16658.805  61683.344  56177.727\n",
      " 25099.91   62674.504   7711.0454 11188.964  32155.354  19550.707\n",
      " 19373.818   4730.576  57505.887  26190.555  56480.047  18167.584\n",
      " 16976.309   7468.2075 45123.094  11301.743  53660.918  35653.016\n",
      " 21159.002  32199.658  17516.227  59877.777  58858.38   53378.938\n",
      " 33751.22   65663.74   32082.822  28150.56   58489.49   40198.59\n",
      " 30466.605  46501.027  26466.328  60216.85   24410.217  70073.87\n",
      " 41881.96   30952.607   5415.0337  7247.7017 20757.367  31753.14\n",
      " 28732.29    6421.95   21073.021  15450.002  10651.406  43378.\n",
      " 57481.258  30887.387   4924.108  25721.633  19982.352  29921.09\n",
      " 65530.23   22597.725  25234.783  53120.85   31831.057  21318.607\n",
      " 20809.695  30314.605  51212.16   12541.488  46612.066   4566.2183\n",
      " 35490.01   35003.35    9859.016  41369.1    16236.625  43965.816\n",
      " 59160.92   29750.596  43852.55   33200.375  16545.795  18802.56\n",
      " 29032.059  29963.889  42374.426  28249.06   68733.78   48178.047\n",
      " 46727.77   24808.36   47260.133  50962.69   35026.895  46741.176\n",
      "  2939.1084 61661.523  40510.88   57249.07   10652.625  30012.34\n",
      " 54924.918  35176.094  46973.676  48124.1    24469.486  48252.312\n",
      " 56533.863  11199.673  48311.32   32559.613  49863.113  28517.904\n",
      " 57239.13   45157.617  33102.508  42742.184  22145.707  48651.04\n",
      " 26282.125  41501.07   38538.36   55793.52   15830.442  68322.95\n",
      " 29212.598  67846.34   11128.657  50883.66   21569.521  30947.59\n",
      " 26431.81   24996.1    52618.305  10928.308  21115.707  37210.152\n",
      " 19586.906  36458.277  38854.86   66364.055   1723.0353 29592.467\n",
      " 14871.312   1753.7576 55372.035  59073.77   36654.465  51239.035\n",
      " 53869.215  37471.14   49203.31   59372.508  54542.824   1947.2253\n",
      " 61646.477  24713.896  28575.81   34105.062  26802.633  14083.164\n",
      " 56064.215  16910.129  29536.45   58716.633  34806.355  64494.61\n",
      " 69029.58   56120.68  ]\n"
     ]
    }
   ],
   "source": [
    "from sklearn.metrics import mean_absolute_error\n",
    "predictions = model.predict(x_test)\n",
    "print(x_test)\n",
    "print(predictions)"
   ]
  },
  {
   "cell_type": "code",
   "execution_count": 95,
   "metadata": {},
   "outputs": [
    {
     "name": "stdout",
     "output_type": "stream",
     "text": [
      "the mean absolute error is  48.88391830444336\n"
     ]
    }
   ],
   "source": [
    "mae = mean_absolute_error(predictions, y_test)\n",
    "print(\"the mean absolute error is \", mae)"
   ]
  },
  {
   "cell_type": "code",
   "execution_count": 96,
   "metadata": {},
   "outputs": [
    {
     "name": "stdout",
     "output_type": "stream",
     "text": [
      "   variable1  variable2 variable3\n",
      "0        552         96         A\n",
      "1        552         96         B\n",
      "2        552         96         C\n",
      "3        552         96         D\n",
      "0    42120\n",
      "1    42768\n",
      "2    43416\n",
      "3    44064\n",
      "Name: result, dtype: int64\n"
     ]
    }
   ],
   "source": [
    "testSample=pd.read_csv(\"file.csv\")\n",
    "test = testSample.iloc[:,1:4]\n",
    "answer = testSample.iloc[:,4]\n",
    "print(test)\n",
    "print(answer)"
   ]
  },
  {
   "cell_type": "code",
   "execution_count": 97,
   "metadata": {},
   "outputs": [
    {
     "name": "stdout",
     "output_type": "stream",
     "text": [
      "   B  C  D\n",
      "0  0  0  0\n",
      "1  1  0  0\n",
      "2  0  1  0\n",
      "3  0  0  1\n"
     ]
    }
   ],
   "source": [
    "variable2 =pd.get_dummies(test['variable3'],drop_first=True)\n",
    "\n",
    "print(variable2)"
   ]
  },
  {
   "cell_type": "code",
   "execution_count": 98,
   "metadata": {},
   "outputs": [
    {
     "name": "stdout",
     "output_type": "stream",
     "text": [
      "   variable1  variable2  B  C  D\n",
      "0        552         96  0  0  0\n",
      "1        552         96  1  0  0\n",
      "2        552         96  0  1  0\n",
      "3        552         96  0  0  1\n"
     ]
    }
   ],
   "source": [
    "test=test.drop(['variable3'],axis=1)\n",
    "test=pd.concat([test,variable2],axis=1)\n",
    "print(test)"
   ]
  },
  {
   "cell_type": "code",
   "execution_count": 99,
   "metadata": {},
   "outputs": [
    {
     "name": "stdout",
     "output_type": "stream",
     "text": [
      "[42112.41  42780.86  43402.715 43984.684]\n"
     ]
    }
   ],
   "source": [
    "prediction2 = model.predict(test)\n",
    "print(prediction2)"
   ]
  },
  {
   "cell_type": "code",
   "execution_count": 100,
   "metadata": {},
   "outputs": [],
   "source": [
    "import pickle"
   ]
  },
  {
   "cell_type": "code",
   "execution_count": 101,
   "metadata": {},
   "outputs": [],
   "source": [
    "with open('model_pickle', 'wb') as f:\n",
    "    pickle.dump(model, f)"
   ]
  },
  {
   "cell_type": "code",
   "execution_count": 102,
   "metadata": {},
   "outputs": [],
   "source": [
    "with open('model_pickle', 'rb') as f:\n",
    "    mp = pickle.load(f)"
   ]
  },
  {
   "cell_type": "code",
   "execution_count": 103,
   "metadata": {},
   "outputs": [
    {
     "name": "stdout",
     "output_type": "stream",
     "text": [
      "[42112.41  42780.86  43402.715 43984.684]\n"
     ]
    }
   ],
   "source": [
    "print(mp.predict(test))"
   ]
  },
  {
   "cell_type": "code",
   "execution_count": null,
   "metadata": {},
   "outputs": [],
   "source": []
  }
 ],
 "metadata": {
  "kernelspec": {
   "display_name": "Python 3",
   "language": "python",
   "name": "python3"
  },
  "language_info": {
   "codemirror_mode": {
    "name": "ipython",
    "version": 3
   },
   "file_extension": ".py",
   "mimetype": "text/x-python",
   "name": "python",
   "nbconvert_exporter": "python",
   "pygments_lexer": "ipython3",
   "version": "3.7.6"
  }
 },
 "nbformat": 4,
 "nbformat_minor": 4
}
